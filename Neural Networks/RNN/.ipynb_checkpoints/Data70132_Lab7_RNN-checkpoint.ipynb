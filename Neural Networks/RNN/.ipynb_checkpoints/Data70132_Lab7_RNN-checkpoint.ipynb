{
 "cells": [
  {
   "cell_type": "markdown",
   "metadata": {},
   "source": [
    "Recurrent Neural Networks (RNN)\n",
    "=========\n",
    "March 8, 2019.\n",
    "\n",
    "Luis Da Silva.\n",
    "\n",
    "This notebook explores the use of RNN for text processing.\n",
    "\n",
    "Thanks to [Angelo Cangelosi](https://www.research.manchester.ac.uk/portal/angelo.cangelosi.html) for teaching me most of this material."
   ]
  },
  {
   "cell_type": "markdown",
   "metadata": {},
   "source": [
    "# RNNs to Generate text"
   ]
  },
  {
   "cell_type": "code",
   "execution_count": 1,
   "metadata": {},
   "outputs": [
    {
     "name": "stderr",
     "output_type": "stream",
     "text": [
      "Using TensorFlow backend.\n"
     ]
    }
   ],
   "source": [
    "from __future__ import print_function\n",
    "import numpy as np\n",
    "from keras.layers import Dense, Activation\n",
    "from keras.layers.recurrent import SimpleRNN\n",
    "from keras.models import Sequential"
   ]
  },
  {
   "cell_type": "markdown",
   "metadata": {},
   "source": [
    "**Loading text file and converting to clean text**\n",
    "\n",
    "This code will read the file \"[alice_in_wonderland.txt](http://www.gutenberg.org/files/11/11-0.txt)\""
   ]
  },
  {
   "cell_type": "code",
   "execution_count": 2,
   "metadata": {},
   "outputs": [
    {
     "name": "stdout",
     "output_type": "stream",
     "text": [
      "Loading text file...\n",
      "Done!\n"
     ]
    }
   ],
   "source": [
    "print(\"Loading text file...\")\n",
    "\n",
    "INPUT_FILE = \"alice_in_wonderland.txt\"\n",
    "\n",
    "fin = open(INPUT_FILE, 'rb')\n",
    "lines = []\n",
    "for line in fin:\n",
    "    line = line.strip().lower()\n",
    "    line = line.decode(\"ascii\", \"ignore\")\n",
    "    if len(line) == 0:\n",
    "        continue\n",
    "    lines.append(line)\n",
    "fin.close()\n",
    "whole_text = \" \".join(lines)\n",
    "\n",
    "print(\"Done!\")\n"
   ]
  },
  {
   "cell_type": "code",
   "execution_count": 3,
   "metadata": {},
   "outputs": [
    {
     "name": "stdout",
     "output_type": "stream",
     "text": [
      "Preparing characters look-up table...\n",
      "Done!\n"
     ]
    }
   ],
   "source": [
    "print(\"Preparing characters look-up table...\")\n",
    "\n",
    "chars = set([c for c in whole_text])\n",
    "nb_chars = len(chars)\n",
    "char2index = dict((c, i) for i, c in enumerate(chars))\n",
    "index2char = dict((i, c) for i, c in enumerate(chars))\n",
    "\n",
    "print(\"Done!\")"
   ]
  },
  {
   "cell_type": "markdown",
   "metadata": {},
   "source": [
    "**Input text labels**"
   ]
  },
  {
   "cell_type": "code",
   "execution_count": 4,
   "metadata": {},
   "outputs": [
    {
     "name": "stdout",
     "output_type": "stream",
     "text": [
      "Creating input and label text...\n",
      "Done!\n"
     ]
    }
   ],
   "source": [
    "print(\"Creating input and label text...\")\n",
    "\n",
    "SEQLEN = 10\n",
    "STEP = 1\n",
    "\n",
    "input_chars = []\n",
    "label_chars = []\n",
    "for i in range(0, len(whole_text) - SEQLEN, STEP):\n",
    "    input_chars.append(whole_text[i:i + SEQLEN])\n",
    "    label_chars.append(whole_text[i + SEQLEN])\n",
    "\n",
    "print(\"Done!\")"
   ]
  },
  {
   "cell_type": "markdown",
   "metadata": {},
   "source": [
    "**Vectorisation of the input and output**"
   ]
  },
  {
   "cell_type": "code",
   "execution_count": 5,
   "metadata": {},
   "outputs": [
    {
     "name": "stdout",
     "output_type": "stream",
     "text": [
      "Vectorizing input and label text...\n",
      "Done!\n"
     ]
    }
   ],
   "source": [
    "print(\"Vectorizing input and label text...\")\n",
    "\n",
    "X = np.zeros((len(input_chars), SEQLEN, nb_chars), dtype=np.bool)\n",
    "y = np.zeros((len(input_chars), nb_chars), dtype=np.bool)\n",
    "for i, input_char in enumerate(input_chars):\n",
    "    for j, ch in enumerate(input_char):\n",
    "        X[i, j, char2index[ch]] = 1\n",
    "    y[i, char2index[label_chars[i]]] = 1\n",
    "\n",
    "print(\"Done!\")"
   ]
  },
  {
   "cell_type": "markdown",
   "metadata": {},
   "source": [
    "**Simple RNN Model definition**"
   ]
  },
  {
   "cell_type": "code",
   "execution_count": 6,
   "metadata": {},
   "outputs": [
    {
     "name": "stdout",
     "output_type": "stream",
     "text": [
      "_________________________________________________________________\n",
      "Layer (type)                 Output Shape              Param #   \n",
      "=================================================================\n",
      "simple_rnn_1 (SimpleRNN)     (None, 128)               23424     \n",
      "_________________________________________________________________\n",
      "dense_1 (Dense)              (None, 54)                6966      \n",
      "_________________________________________________________________\n",
      "activation_1 (Activation)    (None, 54)                0         \n",
      "=================================================================\n",
      "Total params: 30,390\n",
      "Trainable params: 30,390\n",
      "Non-trainable params: 0\n",
      "_________________________________________________________________\n"
     ]
    }
   ],
   "source": [
    "# Definition of the network and training hyperparameters\n",
    "HIDDEN_SIZE = 128\n",
    "BATCH_SIZE = 512\n",
    "NUM_ITERATIONS = 25\n",
    "NUM_EPOCHS_PER_ITERATION = 1\n",
    "NUM_PREDS_PER_EPOCH = 100\n",
    "\n",
    "# Definition of the network topology, with simpleRNN hidden layer\n",
    "model = Sequential()\n",
    "model.add(SimpleRNN(HIDDEN_SIZE, return_sequences=False, input_shape=(SEQLEN, nb_chars), unroll=True))\n",
    "model.add(Dense(nb_chars))\n",
    "model.add(Activation(\"softmax\"))\n",
    "\n",
    "model.compile(loss=\"categorical_crossentropy\", optimizer=\"rmsprop\")\n",
    "\n",
    "#show the model summary\n",
    "model.summary()"
   ]
  },
  {
   "cell_type": "markdown",
   "metadata": {},
   "source": [
    "**Training and testing of the model**"
   ]
  },
  {
   "cell_type": "code",
   "execution_count": 7,
   "metadata": {
    "scrolled": true
   },
   "outputs": [
    {
     "name": "stdout",
     "output_type": "stream",
     "text": [
      "==================================================\n",
      "Iteration #: 0\n",
      "Epoch 1/1\n",
      "158172/158172 [==============================] - 7s 43us/step - loss: 2.5619\n",
      "Generating from seed: de as she \n",
      "de as she sand the sathe sathe sathe sathe sathe sathe sathe sathe sathe sathe sathe sathe sathe sathe sathe s\n",
      "==================================================\n",
      "Iteration #: 1\n",
      "Epoch 1/1\n",
      "158172/158172 [==============================] - 3s 18us/step - loss: 2.1763\n",
      "Generating from seed: egun to th\n",
      "egun to the was the she sald the was the she sald the was the she sald the was the she sald the was the she sa\n",
      "==================================================\n",
      "Iteration #: 2\n",
      "Epoch 1/1\n",
      "158172/158172 [==============================] - 3s 18us/step - loss: 2.0710\n",
      "Generating from seed: -day? i sh\n",
      "-day? i she the ghe the ghe the ghe the ghe the ghe the ghe the ghe the ghe the ghe the ghe the ghe the ghe th\n",
      "==================================================\n",
      "Iteration #: 3\n",
      "Epoch 1/1\n",
      "158172/158172 [==============================] - 3s 18us/step - loss: 2.0058\n",
      "Generating from seed: g slowly b\n",
      "g slowly but in the the said the coust in the said the coust in the said the coust in the said the coust in th\n",
      "==================================================\n",
      "Iteration #: 4\n",
      "Epoch 1/1\n",
      "158172/158172 [==============================] - 3s 20us/step - loss: 1.9542\n",
      "Generating from seed: stard, pin\n",
      "stard, pind and the said the dont of the said the dont of the said the dont of the said the dont of the said t\n",
      "==================================================\n",
      "Iteration #: 5\n",
      "Epoch 1/1\n",
      "158172/158172 [==============================] - 3s 19us/step - loss: 1.9098\n",
      "Generating from seed: e was stan\n",
      "e was stant in a dore the said the mare the lack the lack the lack the lack the lack the lack the lack the lac\n",
      "==================================================\n",
      "Iteration #: 6\n",
      "Epoch 1/1\n",
      "158172/158172 [==============================] - 3s 18us/step - loss: 1.8692\n",
      "Generating from seed: se i can g\n",
      "se i can ghe the mous the marke was she was she was she was she was she was she was she was she was she was sh\n",
      "==================================================\n",
      "Iteration #: 7\n",
      "Epoch 1/1\n",
      "158172/158172 [==============================] - 3s 18us/step - loss: 1.8327\n",
      "Generating from seed:  stuff, th\n",
      " stuff, the groplent on the was the was the was the was the was the was the was the was the was the was the wa\n",
      "==================================================\n",
      "Iteration #: 8\n",
      "Epoch 1/1\n",
      "158172/158172 [==============================] - 3s 18us/step - loss: 1.7990\n",
      "Generating from seed: d not help\n",
      "d not help the mare the mouse for the project gutenberg-tm elect on the was the was the was the was the was th\n",
      "==================================================\n",
      "Iteration #: 9\n",
      "Epoch 1/1\n",
      "158172/158172 [==============================] - 3s 18us/step - loss: 1.7683\n",
      "Generating from seed: and went t\n",
      "and went the dorme said the donge she had she had she had she had she had she had she had she had she had she \n",
      "==================================================\n",
      "Iteration #: 10\n",
      "Epoch 1/1\n",
      "158172/158172 [==============================] - 3s 18us/step - loss: 1.7406\n",
      "Generating from seed:  she tried\n",
      " she tried the cares and the mare the was of the was of the was of the was of the was of the was of the was of\n",
      "==================================================\n",
      "Iteration #: 11\n",
      "Epoch 1/1\n",
      "158172/158172 [==============================] - 3s 18us/step - loss: 1.7150\n",
      "Generating from seed: e of her f\n",
      "e of her for the work on the work on the work on the work on the work on the work on the work on the work on t\n",
      "==================================================\n",
      "Iteration #: 12\n",
      "Epoch 1/1\n",
      "158172/158172 [==============================] - 3s 18us/step - loss: 1.6918\n",
      "Generating from seed: e other. i\n",
      "e other. it was the dont was the dont was the dont was the dont was the dont was the dont was the dont was the\n",
      "==================================================\n",
      "Iteration #: 13\n",
      "Epoch 1/1\n",
      "158172/158172 [==============================] - 3s 18us/step - loss: 1.6711\n",
      "Generating from seed: d quite sl\n",
      "d quite sle the more the dormouse the dormouse the dormouse the dormouse the dormouse the dormouse the dormous\n",
      "==================================================\n",
      "Iteration #: 14\n",
      "Epoch 1/1\n",
      "158172/158172 [==============================] - 3s 18us/step - loss: 1.6516\n",
      "Generating from seed: t as well \n",
      "t as well the gryphon a grown the project gutenberg-tm electronic works and the project gutenberg-tm electroni\n",
      "==================================================\n",
      "Iteration #: 15\n",
      "Epoch 1/1\n",
      "158172/158172 [==============================] - 3s 18us/step - loss: 1.6331\n",
      "Generating from seed: e had alre\n",
      "e had alrer a dont the was she was a little the was she was a little the was she was a little the was she was \n",
      "==================================================\n",
      "Iteration #: 16\n",
      "Epoch 1/1\n",
      "158172/158172 [==============================] - 3s 18us/step - loss: 1.6164\n",
      "Generating from seed: bottom of \n",
      "bottom of the was so she was a little that she was a little that she was a little that she was a little that s\n",
      "==================================================\n",
      "Iteration #: 17\n",
      "Epoch 1/1\n",
      "158172/158172 [==============================] - 3s 18us/step - loss: 1.6002\n",
      "Generating from seed: claimed al\n",
      "claimed alice was the mouse said the docalice said the docalice said the docalice said the docalice said the d\n",
      "==================================================\n",
      "Iteration #: 18\n",
      "Epoch 1/1\n",
      "158172/158172 [==============================] - 3s 18us/step - loss: 1.5852\n",
      "Generating from seed: r--and cam\n",
      "r--and came the mouse of the was so mant in the mouse of the was so mant in the mouse of the was so mant in th\n",
      "==================================================\n",
      "Iteration #: 19\n",
      "Epoch 1/1\n",
      "158172/158172 [==============================] - 3s 18us/step - loss: 1.5717\n",
      "Generating from seed: declared f\n",
      "declared for the project gutenberg-tm electronic works on the was so the project gutenberg-tm electronic works\n",
      "==================================================\n",
      "Iteration #: 20\n",
      "Epoch 1/1\n",
      "158172/158172 [==============================] - 3s 19us/step - loss: 1.5588\n",
      "Generating from seed:  is this? \n",
      " is this? i said the dormouse said the dormouse said the dormouse said the dormouse said the dormouse said the\n",
      "==================================================\n",
      "Iteration #: 21\n",
      "Epoch 1/1\n",
      "158172/158172 [==============================] - 3s 19us/step - loss: 1.5457\n",
      "Generating from seed:  well! wha\n",
      " well! what the gryphon whith reand the dormouse the dormouse the dormouse the dormouse the dormouse the dormo\n",
      "==================================================\n",
      "Iteration #: 22\n",
      "Epoch 1/1\n",
      "158172/158172 [==============================] - 3s 19us/step - loss: 1.5346\n",
      "Generating from seed: as much pl\n",
      "as much please to enee the courd and the courd and the courd and the courd and the courd and the courd and the\n",
      "==================================================\n",
      "Iteration #: 23\n",
      "Epoch 1/1\n",
      "158172/158172 [==============================] - 3s 20us/step - loss: 1.5234\n",
      "Generating from seed: ust obtain\n",
      "ust obtain the courd and herself it and alice was so she went on a conger alice, and she was the formouse she \n",
      "==================================================\n",
      "Iteration #: 24\n",
      "Epoch 1/1\n",
      "158172/158172 [==============================] - 3s 19us/step - loss: 1.5130\n",
      "Generating from seed: hat i see \n",
      "hat i see said the mock turtle said the mock turtle said the mock turtle said the mock turtle said the mock tu\n"
     ]
    }
   ],
   "source": [
    "for iteration in range(NUM_ITERATIONS):\n",
    "    print(\"=\" * 50)\n",
    "    print(\"Iteration #: %d\" % (iteration))\n",
    "    model.fit(X, y, batch_size=BATCH_SIZE, epochs=NUM_EPOCHS_PER_ITERATION)\n",
    "    \n",
    "    # testing model\n",
    "    # randomly choose a row from input_chars, then use it to \n",
    "    # generate text from model for next 100 chars\n",
    "    test_idx = np.random.randint(len(input_chars))\n",
    "    test_chars = input_chars[test_idx]\n",
    "    print(\"Generating from seed: %s\" % (test_chars))\n",
    "    print(test_chars, end=\"\")\n",
    "    for i in range(NUM_PREDS_PER_EPOCH):\n",
    "        Xtest = np.zeros((1, SEQLEN, nb_chars))\n",
    "        for i, ch in enumerate(test_chars):\n",
    "            Xtest[0, i, char2index[ch]] = 1\n",
    "        pred = model.predict(Xtest, verbose=0)[0]\n",
    "        ypred = index2char[np.argmax(pred)]\n",
    "        print(ypred, end=\"\")\n",
    "        # move forward with test_chars + ypred\n",
    "        test_chars = test_chars[1:] + ypred\n",
    "    print()\n"
   ]
  },
  {
   "cell_type": "markdown",
   "metadata": {},
   "source": [
    "LSTM for Sentiment Analysis\n",
    "========="
   ]
  },
  {
   "cell_type": "code",
   "execution_count": 8,
   "metadata": {},
   "outputs": [],
   "source": [
    "from keras.layers.core import Activation, Dense, Dropout, SpatialDropout1D\n",
    "from keras.layers.embeddings import Embedding\n",
    "from keras.layers.recurrent import LSTM\n",
    "from keras.models import Sequential\n",
    "from keras.preprocessing import sequence\n",
    "from sklearn.model_selection import train_test_split\n",
    "import collections\n",
    "import matplotlib.pyplot as plt\n",
    "import nltk\n",
    "import numpy as np\n",
    "import os\n"
   ]
  },
  {
   "cell_type": "code",
   "execution_count": 9,
   "metadata": {},
   "outputs": [],
   "source": [
    "INPUT_FILE = \"umich-sentiment-train.txt\"\n",
    "\n",
    "EMBEDDING_SIZE = 128\n",
    "HIDDEN_LAYER_SIZE = 64\n",
    "BATCH_SIZE = 128\n",
    "NUM_EPOCHS = 10\n"
   ]
  },
  {
   "cell_type": "markdown",
   "metadata": {},
   "source": [
    "**Analysis of words in corpus**"
   ]
  },
  {
   "cell_type": "code",
   "execution_count": 10,
   "metadata": {},
   "outputs": [
    {
     "name": "stdout",
     "output_type": "stream",
     "text": [
      "42\n",
      "2311\n"
     ]
    }
   ],
   "source": [
    "# Read training data and generate vocabulary\n",
    "maxlen = 0\n",
    "word_freqs = collections.Counter()\n",
    "num_recs = 0\n",
    "\n",
    "ftrain = open(INPUT_FILE, 'rb')\n",
    "for line in ftrain:\n",
    "    label, sentence = line.strip().split(b\"\\t\")\n",
    "    words = nltk.word_tokenize(sentence.decode(\"ascii\", \"ignore\").lower())\n",
    "    if len(words) > maxlen:\n",
    "        maxlen = len(words)\n",
    "    for word in words:\n",
    "        word_freqs[word] += 1\n",
    "    num_recs += 1\n",
    "ftrain.close()\n",
    "\n",
    "## Get some information about our corpus\n",
    "print (maxlen)            # 42\n",
    "print (len(word_freqs))   # 2313"
   ]
  },
  {
   "cell_type": "markdown",
   "metadata": {},
   "source": [
    "**Unkown word and padding word and lookup tables**"
   ]
  },
  {
   "cell_type": "code",
   "execution_count": 11,
   "metadata": {},
   "outputs": [],
   "source": [
    "MAX_FEATURES = 2000\n",
    "MAX_SENTENCE_LENGTH = 40\n",
    "\n",
    "# 1 is UNK, 0 is PAD\n",
    "# We take MAX_FEATURES-1 featurs to accound for PAD\n",
    "vocab_size = min(MAX_FEATURES, len(word_freqs)) + 2\n",
    "word2index = {x[0]: i+2 for i, x in \n",
    "                enumerate(word_freqs.most_common(MAX_FEATURES))}\n",
    "word2index[\"PAD\"] = 0\n",
    "word2index[\"UNK\"] = 1\n",
    "index2word = {v:k for k, v in word2index.items()}\n"
   ]
  },
  {
   "cell_type": "markdown",
   "metadata": {},
   "source": [
    "**Prepare training sequences**"
   ]
  },
  {
   "cell_type": "code",
   "execution_count": 12,
   "metadata": {},
   "outputs": [
    {
     "name": "stdout",
     "output_type": "stream",
     "text": [
      "(5668, 40) (1418, 40) (5668,) (1418,)\n"
     ]
    }
   ],
   "source": [
    "# convert sentences to sequences\n",
    "X = np.empty((num_recs, ), dtype=list)\n",
    "y = np.zeros((num_recs, ))\n",
    "i = 0\n",
    "ftrain = open(INPUT_FILE, 'rb')\n",
    "for line in ftrain:\n",
    "    label, sentence = line.strip().split(b\"\\t\")\n",
    "    words = nltk.word_tokenize(sentence.decode(\"ascii\", \"ignore\").lower())\n",
    "    seqs = []\n",
    "    for word in words:\n",
    "        if word in word2index:\n",
    "            seqs.append(word2index[word])\n",
    "        else:\n",
    "            seqs.append(word2index[\"UNK\"])\n",
    "    X[i] = seqs\n",
    "    y[i] = int(label)\n",
    "    i += 1\n",
    "ftrain.close()\n",
    "\n",
    "# Pad the sequences (left padded with zeros)\n",
    "X = sequence.pad_sequences(X, maxlen=MAX_SENTENCE_LENGTH)\n",
    "\n",
    "# Split input into training and test\n",
    "Xtrain, Xtest, ytrain, ytest = train_test_split(X, y, test_size=0.2, random_state=42)\n",
    "print(Xtrain.shape, Xtest.shape, ytrain.shape, ytest.shape)"
   ]
  },
  {
   "attachments": {},
   "cell_type": "markdown",
   "metadata": {},
   "source": [
    "**Model building and compilation**"
   ]
  },
  {
   "cell_type": "code",
   "execution_count": 13,
   "metadata": {},
   "outputs": [
    {
     "name": "stdout",
     "output_type": "stream",
     "text": [
      "_________________________________________________________________\n",
      "Layer (type)                 Output Shape              Param #   \n",
      "=================================================================\n",
      "embedding_1 (Embedding)      (None, 40, 128)           256256    \n",
      "_________________________________________________________________\n",
      "spatial_dropout1d_1 (Spatial (None, 40, 128)           0         \n",
      "_________________________________________________________________\n",
      "lstm_1 (LSTM)                (None, 64)                49408     \n",
      "_________________________________________________________________\n",
      "dense_2 (Dense)              (None, 1)                 65        \n",
      "_________________________________________________________________\n",
      "activation_2 (Activation)    (None, 1)                 0         \n",
      "=================================================================\n",
      "Total params: 305,729\n",
      "Trainable params: 305,729\n",
      "Non-trainable params: 0\n",
      "_________________________________________________________________\n"
     ]
    }
   ],
   "source": [
    "# Build model\n",
    "model = Sequential()\n",
    "model.add(Embedding(vocab_size, EMBEDDING_SIZE, input_length=MAX_SENTENCE_LENGTH))\n",
    "model.add(SpatialDropout1D(0.2))\n",
    "model.add(LSTM(HIDDEN_LAYER_SIZE, dropout=0.2, recurrent_dropout=0.2))\n",
    "model.add(Dense(1))\n",
    "model.add(Activation(\"sigmoid\"))\n",
    "\n",
    "model.compile(loss=\"binary_crossentropy\", optimizer=\"adam\", metrics=[\"accuracy\"])\n",
    "\n",
    "#show the model summary\n",
    "model.summary()\n"
   ]
  },
  {
   "cell_type": "markdown",
   "metadata": {},
   "source": [
    "**Training model**"
   ]
  },
  {
   "cell_type": "code",
   "execution_count": 14,
   "metadata": {
    "scrolled": true
   },
   "outputs": [
    {
     "name": "stdout",
     "output_type": "stream",
     "text": [
      "Train on 5668 samples, validate on 1418 samples\n",
      "Epoch 1/10\n",
      "5668/5668 [==============================] - 7s 1ms/step - loss: 0.5033 - acc: 0.7650 - val_loss: 0.2307 - val_acc: 0.9478\n",
      "Epoch 2/10\n",
      "5668/5668 [==============================] - 5s 865us/step - loss: 0.1068 - acc: 0.9741 - val_loss: 0.0789 - val_acc: 0.9746\n",
      "Epoch 3/10\n",
      "5668/5668 [==============================] - 5s 891us/step - loss: 0.0334 - acc: 0.9919 - val_loss: 0.0553 - val_acc: 0.9810\n",
      "Epoch 4/10\n",
      "5668/5668 [==============================] - 5s 884us/step - loss: 0.0152 - acc: 0.9965 - val_loss: 0.0591 - val_acc: 0.9824\n",
      "Epoch 5/10\n",
      "5668/5668 [==============================] - 5s 948us/step - loss: 0.0088 - acc: 0.9979 - val_loss: 0.0437 - val_acc: 0.9894\n",
      "Epoch 6/10\n",
      "5668/5668 [==============================] - 7s 1ms/step - loss: 0.0055 - acc: 0.9991 - val_loss: 0.0519 - val_acc: 0.9873\n",
      "Epoch 7/10\n",
      "5668/5668 [==============================] - 5s 848us/step - loss: 0.0024 - acc: 1.0000 - val_loss: 0.0636 - val_acc: 0.9859\n",
      "Epoch 8/10\n",
      "5668/5668 [==============================] - 5s 818us/step - loss: 0.0029 - acc: 0.9995 - val_loss: 0.0629 - val_acc: 0.9866\n",
      "Epoch 9/10\n",
      "5668/5668 [==============================] - 5s 833us/step - loss: 0.0017 - acc: 0.9998 - val_loss: 0.0648 - val_acc: 0.9866\n",
      "Epoch 10/10\n",
      "5668/5668 [==============================] - 5s 852us/step - loss: 0.0053 - acc: 0.9986 - val_loss: 0.0547 - val_acc: 0.9887\n"
     ]
    }
   ],
   "source": [
    "history = model.fit(Xtrain, ytrain, batch_size=BATCH_SIZE, epochs=NUM_EPOCHS, validation_data=(Xtest, ytest))"
   ]
  },
  {
   "cell_type": "markdown",
   "metadata": {},
   "source": [
    "**Plotting results**"
   ]
  },
  {
   "cell_type": "code",
   "execution_count": 15,
   "metadata": {},
   "outputs": [
    {
     "data": {
      "image/png": "[encoded data removed]",
      "text/plain": [
       "<Figure size 432x288 with 2 Axes>"
      ]
     },
     "metadata": {
      "needs_background": "light"
     },
     "output_type": "display_data"
    }
   ],
   "source": [
    "# plot loss and accuracy\n",
    "plt.subplot(211)\n",
    "plt.title(\"Accuracy\")\n",
    "plt.plot(history.history[\"acc\"], color=\"g\", label=\"Train\")\n",
    "plt.plot(history.history[\"val_acc\"], color=\"b\", label=\"Validation\")\n",
    "plt.legend(loc=\"best\")\n",
    "\n",
    "plt.subplot(212)\n",
    "plt.title(\"Loss\")\n",
    "plt.plot(history.history[\"loss\"], color=\"g\", label=\"Train\")\n",
    "plt.plot(history.history[\"val_loss\"], color=\"b\", label=\"Validation\")\n",
    "plt.legend(loc=\"best\")\n",
    "\n",
    "plt.tight_layout()\n",
    "plt.show()\n"
   ]
  },
  {
   "cell_type": "markdown",
   "metadata": {},
   "source": [
    "**Model evaluation**"
   ]
  },
  {
   "cell_type": "code",
   "execution_count": 16,
   "metadata": {},
   "outputs": [
    {
     "name": "stdout",
     "output_type": "stream",
     "text": [
      "1418/1418 [==============================] - 0s 326us/step\n",
      "Test score: 0.055, accuracy: 0.989\n",
      "0\t0\tda vinci code sucks .\n",
      "0\t0\tas i sit here , watching the mtv movie awards , i am reminded of how much i despised the movie brokeback mountain .\n",
      "1\t1\ti wanted desperately to love'the da vinci code as a film .\n",
      "0\t0\tby the way , the da vinci code sucked , just letting you know ...\n",
      "0\t0\ti thought brokeback mountain was an awful movie .\n"
     ]
    }
   ],
   "source": [
    "# evaluate\n",
    "score, acc = model.evaluate(Xtest, ytest, batch_size=BATCH_SIZE)\n",
    "print(\"Test score: %.3f, accuracy: %.3f\" % (score, acc))\n",
    "\n",
    "for i in range(5):\n",
    "    idx = np.random.randint(len(Xtest))\n",
    "    xtest = Xtest[idx].reshape(1,40)\n",
    "    ylabel = ytest[idx]\n",
    "    ypred = model.predict(xtest)[0][0]\n",
    "    sent = \" \".join([index2word[x] for x in xtest[0].tolist() if x != 0])\n",
    "    print(\"%.0f\\t%d\\t%s\" % (ypred, ylabel, sent))\n"
   ]
  }
 ],
 "metadata": {
  "kernelspec": {
   "display_name": "Python 3",
   "language": "python",
   "name": "python3"
  },
  "language_info": {
   "codemirror_mode": {
    "name": "ipython",
    "version": 3
   },
   "file_extension": ".py",
   "mimetype": "text/x-python",
   "name": "python",
   "nbconvert_exporter": "python",
   "pygments_lexer": "ipython3",
   "version": "3.6.7"
  }
 },
 "nbformat": 4,
 "nbformat_minor": 1
}
