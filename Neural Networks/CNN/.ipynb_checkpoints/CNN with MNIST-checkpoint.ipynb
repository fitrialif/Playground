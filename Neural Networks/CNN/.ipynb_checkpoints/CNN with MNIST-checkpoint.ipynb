{
 "cells": [
  {
   "cell_type": "markdown",
   "metadata": {},
   "source": [
    "Implementing Convolutional Neural Networks (CNNs)\n",
    "=========\n",
    "March 8, 2019.\n",
    "\n",
    "Luis Da Silva.\n",
    "\n",
    "Usually used for computer vision, a deep CNN consists of many stacked layers. There are two main types of layers, [convolutional and pooling](https://medium.com/analytics-vidhya/deep-learning-methods-1700548a3093), which are typically alternated.\n",
    "\n",
    "This notebook implements a [LeNet Neural Network](http://yann.lecun.com/exdb/publis/pdf/lecun-01a.pdf) to classify the [MNIST](http://yann.lecun.com/exdb/mnist/) dataset.\n",
    "\n",
    "Thanks to [Angelo Cangelosi](https://www.research.manchester.ac.uk/portal/angelo.cangelosi.html) for teaching me most of this material."
   ]
  },
  {
   "cell_type": "code",
   "execution_count": 1,
   "metadata": {},
   "outputs": [
    {
     "name": "stderr",
     "output_type": "stream",
     "text": [
      "Using TensorFlow backend.\n"
     ]
    }
   ],
   "source": [
    "import numpy as np\n",
    "import matplotlib.pyplot as plt\n",
    "\n",
    "from keras import backend as K\n",
    "from keras.models import Sequential\n",
    "from keras.layers.convolutional import Conv2D\n",
    "from keras.layers.convolutional import MaxPooling2D\n",
    "from keras.layers.core import Activation\n",
    "from keras.layers.core import Flatten\n",
    "from keras.layers.core import Dense\n",
    "from keras.datasets import mnist\n",
    "from keras.utils import np_utils\n",
    "from keras.optimizers import SGD, RMSprop, Adam"
   ]
  },
  {
   "cell_type": "code",
   "execution_count": 2,
   "metadata": {},
   "outputs": [],
   "source": [
    "# seed for reproducibility\n",
    "np.random.seed(1671)  \n",
    "\n",
    "# network and training parameters\n",
    "N_EPOCH = 20 # later use 20 for better results\n",
    "BATCH_SIZE = 128\n",
    "VERBOSE = 1\n",
    "OPTIMIZER = Adam()\n",
    "VALIDATION_SPLIT=0.2\n",
    "\n",
    "IMG_ROWS, IMG_COLS = 28, 28 # input  dimensions of each MNIST image\n",
    "N_CLASSES = 10  # number of outputs = number of digits\n",
    "INPUT_SHAPE = (1, IMG_ROWS, IMG_COLS)\n"
   ]
  },
  {
   "cell_type": "code",
   "execution_count": 3,
   "metadata": {},
   "outputs": [],
   "source": [
    "#define the convnet \n",
    "class LeNet:\n",
    "    @staticmethod\n",
    "    def build(input_shape, classes):\n",
    "        model = Sequential()\n",
    "        \n",
    "        # CONV => RELU => POOL\n",
    "        model.add(Conv2D(20, kernel_size=5, padding=\"same\", input_shape=input_shape))\n",
    "        model.add(Activation(\"relu\"))\n",
    "        model.add(MaxPooling2D(pool_size=(2, 2), strides=(2, 2)))\n",
    "        \n",
    "        # CONV => RELU => POOL\n",
    "        model.add(Conv2D(50, kernel_size=5, padding=\"same\"))\n",
    "        model.add(Activation(\"relu\"))\n",
    "        model.add(MaxPooling2D(pool_size=(2, 2), strides=(2, 2)))\n",
    "        \n",
    "        # Flatten => RELU layers\n",
    "        model.add(Flatten())\n",
    "        model.add(Dense(500))\n",
    "        model.add(Activation(\"relu\"))\n",
    " \n",
    "        # a softmax classifier\n",
    "        model.add(Dense(classes))\n",
    "        model.add(Activation(\"softmax\"))\n",
    "        return model"
   ]
  },
  {
   "cell_type": "markdown",
   "metadata": {},
   "source": [
    "### MNIST data loading and processing"
   ]
  },
  {
   "cell_type": "code",
   "execution_count": 4,
   "metadata": {},
   "outputs": [
    {
     "name": "stdout",
     "output_type": "stream",
     "text": [
      "60000 train samples\n",
      "10000 test samples\n"
     ]
    }
   ],
   "source": [
    "# data: shuffled and split between train and test sets\n",
    "(input_X_train, output_y_train), (input_X_test, output_y_test) = mnist.load_data()\n",
    "K.set_image_dim_ordering(\"th\")\n",
    "\n",
    "# consider them as float and normalize\n",
    "input_X_train = input_X_train.astype('float32')\n",
    "input_X_test = input_X_test.astype('float32')\n",
    "input_X_train /= 255 \n",
    "input_X_test /= 255  \n",
    "\n",
    "# we need a 60K x [1 x 28 x 28] shape as input to the CONVNET\n",
    "input_X_train = input_X_train[:, np.newaxis, :, :]\n",
    "input_X_test = input_X_test[:, np.newaxis, :, :]\n",
    "\n",
    "print(input_X_train.shape[0], 'train samples')\n",
    "print(input_X_test.shape[0], 'test samples')\n",
    "\n",
    "# convert class vectors to binary class matrices\n",
    "output_y_train = np_utils.to_categorical(output_y_train, N_CLASSES)\n",
    "output_y_test = np_utils.to_categorical(output_y_test, N_CLASSES)\n"
   ]
  },
  {
   "cell_type": "markdown",
   "metadata": {},
   "source": [
    "## Model initialisation and compilation"
   ]
  },
  {
   "cell_type": "code",
   "execution_count": 5,
   "metadata": {},
   "outputs": [
    {
     "name": "stdout",
     "output_type": "stream",
     "text": [
      "_________________________________________________________________\n",
      "Layer (type)                 Output Shape              Param #   \n",
      "=================================================================\n",
      "conv2d_1 (Conv2D)            (None, 20, 28, 28)        520       \n",
      "_________________________________________________________________\n",
      "activation_1 (Activation)    (None, 20, 28, 28)        0         \n",
      "_________________________________________________________________\n",
      "max_pooling2d_1 (MaxPooling2 (None, 20, 14, 14)        0         \n",
      "_________________________________________________________________\n",
      "conv2d_2 (Conv2D)            (None, 50, 14, 14)        25050     \n",
      "_________________________________________________________________\n",
      "activation_2 (Activation)    (None, 50, 14, 14)        0         \n",
      "_________________________________________________________________\n",
      "max_pooling2d_2 (MaxPooling2 (None, 50, 7, 7)          0         \n",
      "_________________________________________________________________\n",
      "flatten_1 (Flatten)          (None, 2450)              0         \n",
      "_________________________________________________________________\n",
      "dense_1 (Dense)              (None, 500)               1225500   \n",
      "_________________________________________________________________\n",
      "activation_3 (Activation)    (None, 500)               0         \n",
      "_________________________________________________________________\n",
      "dense_2 (Dense)              (None, 10)                5010      \n",
      "_________________________________________________________________\n",
      "activation_4 (Activation)    (None, 10)                0         \n",
      "=================================================================\n",
      "Total params: 1,256,080\n",
      "Trainable params: 1,256,080\n",
      "Non-trainable params: 0\n",
      "_________________________________________________________________\n"
     ]
    }
   ],
   "source": [
    "# initialize the optimizer and compile the model\n",
    "model = LeNet.build(input_shape=INPUT_SHAPE, classes=N_CLASSES)\n",
    "\n",
    "model.compile(loss=\"categorical_crossentropy\", optimizer=OPTIMIZER, metrics=[\"accuracy\"])\n",
    "\n",
    "model.summary()\n"
   ]
  },
  {
   "cell_type": "markdown",
   "metadata": {},
   "source": [
    "**Training of the CNN**\n",
    "\n",
    "This line of code trains the model, saving the metrics data in the history variable.\n",
    "\n"
   ]
  },
  {
   "cell_type": "code",
   "execution_count": 6,
   "metadata": {
    "scrolled": false
   },
   "outputs": [
    {
     "name": "stdout",
     "output_type": "stream",
     "text": [
      "Train on 48000 samples, validate on 12000 samples\n",
      "Epoch 1/20\n",
      "48000/48000 [==============================] - 11s 239us/step - loss: 0.1837 - acc: 0.9433 - val_loss: 0.0621 - val_acc: 0.9802\n",
      "Epoch 2/20\n",
      "48000/48000 [==============================] - 8s 161us/step - loss: 0.0516 - acc: 0.9842 - val_loss: 0.0496 - val_acc: 0.9849\n",
      "Epoch 3/20\n",
      "48000/48000 [==============================] - 8s 169us/step - loss: 0.0340 - acc: 0.9896 - val_loss: 0.0425 - val_acc: 0.9868\n",
      "Epoch 4/20\n",
      "48000/48000 [==============================] - 8s 166us/step - loss: 0.0234 - acc: 0.9926 - val_loss: 0.0415 - val_acc: 0.9866\n",
      "Epoch 5/20\n",
      "48000/48000 [==============================] - 8s 171us/step - loss: 0.0182 - acc: 0.9939 - val_loss: 0.0361 - val_acc: 0.9889\n",
      "Epoch 6/20\n",
      "48000/48000 [==============================] - 8s 172us/step - loss: 0.0124 - acc: 0.9959 - val_loss: 0.0326 - val_acc: 0.9907\n",
      "Epoch 7/20\n",
      "48000/48000 [==============================] - 8s 169us/step - loss: 0.0102 - acc: 0.9966 - val_loss: 0.0362 - val_acc: 0.9893\n",
      "Epoch 8/20\n",
      "48000/48000 [==============================] - 8s 167us/step - loss: 0.0095 - acc: 0.9969 - val_loss: 0.0401 - val_acc: 0.9889\n",
      "Epoch 9/20\n",
      "48000/48000 [==============================] - 8s 166us/step - loss: 0.0070 - acc: 0.9976 - val_loss: 0.0365 - val_acc: 0.9890\n",
      "Epoch 10/20\n",
      "48000/48000 [==============================] - 8s 167us/step - loss: 0.0092 - acc: 0.9970 - val_loss: 0.0409 - val_acc: 0.9898\n",
      "Epoch 11/20\n",
      "48000/48000 [==============================] - 8s 170us/step - loss: 0.0050 - acc: 0.9983 - val_loss: 0.0408 - val_acc: 0.9908\n",
      "Epoch 12/20\n",
      "48000/48000 [==============================] - 8s 171us/step - loss: 0.0057 - acc: 0.9980 - val_loss: 0.0520 - val_acc: 0.9888\n",
      "Epoch 13/20\n",
      "48000/48000 [==============================] - 8s 163us/step - loss: 0.0067 - acc: 0.9978 - val_loss: 0.0452 - val_acc: 0.9889\n",
      "Epoch 14/20\n",
      "48000/48000 [==============================] - 8s 162us/step - loss: 0.0041 - acc: 0.9987 - val_loss: 0.0467 - val_acc: 0.9907\n",
      "Epoch 15/20\n",
      "48000/48000 [==============================] - 9s 188us/step - loss: 0.0050 - acc: 0.9982 - val_loss: 0.0479 - val_acc: 0.9903\n",
      "Epoch 16/20\n",
      "48000/48000 [==============================] - 8s 169us/step - loss: 0.0032 - acc: 0.9989 - val_loss: 0.0558 - val_acc: 0.9889\n",
      "Epoch 17/20\n",
      "48000/48000 [==============================] - 8s 160us/step - loss: 0.0040 - acc: 0.9988 - val_loss: 0.0395 - val_acc: 0.9922\n",
      "Epoch 18/20\n",
      "48000/48000 [==============================] - 8s 161us/step - loss: 0.0047 - acc: 0.9984 - val_loss: 0.0362 - val_acc: 0.9920\n",
      "Epoch 19/20\n",
      "48000/48000 [==============================] - 8s 164us/step - loss: 0.0050 - acc: 0.9983 - val_loss: 0.0381 - val_acc: 0.9916\n",
      "Epoch 20/20\n",
      "48000/48000 [==============================] - 8s 164us/step - loss: 0.0034 - acc: 0.9988 - val_loss: 0.0501 - val_acc: 0.9893\n"
     ]
    }
   ],
   "source": [
    "history = model.fit(input_X_train, output_y_train, batch_size=BATCH_SIZE, epochs=N_EPOCH, verbose=VERBOSE, validation_split=VALIDATION_SPLIT)\n"
   ]
  },
  {
   "cell_type": "markdown",
   "metadata": {},
   "source": [
    "### Analysis of the training results\n",
    "\n"
   ]
  },
  {
   "cell_type": "code",
   "execution_count": 7,
   "metadata": {},
   "outputs": [
    {
     "name": "stdout",
     "output_type": "stream",
     "text": [
      "10000/10000 [==============================] - 1s 98us/step\n",
      "\n",
      "Test score/loss: 0.04912763088969686\n",
      "Test accuracy: 0.9898\n",
      "dict_keys(['val_loss', 'val_acc', 'loss', 'acc'])\n"
     ]
    },
    {
     "data": {
      "image/png": "[encoded data removed]",
      "text/plain": [
       "<Figure size 432x288 with 1 Axes>"
      ]
     },
     "metadata": {
      "needs_background": "light"
     },
     "output_type": "display_data"
    },
    {
     "data": {
      "image/png": "[encoded data removed]",
      "text/plain": [
       "<Figure size 432x288 with 1 Axes>"
      ]
     },
     "metadata": {
      "needs_background": "light"
     },
     "output_type": "display_data"
    }
   ],
   "source": [
    "score = model.evaluate(input_X_test, output_y_test, verbose=VERBOSE)\n",
    "print(\"\\nTest score/loss:\", score[0])\n",
    "print('Test accuracy:', score[1])\n",
    "\n",
    "# list all data in history\n",
    "print(history.history.keys())\n",
    "\n",
    "# summarize history for accuracy\n",
    "plt.plot(history.history['acc'])\n",
    "plt.plot(history.history['val_acc'])\n",
    "plt.title('model accuracy')\n",
    "plt.ylabel('accuracy')\n",
    "plt.xlabel('epoch')\n",
    "plt.legend(['train', 'test'], loc='upper left')\n",
    "plt.show()\n",
    "\n",
    "# summarize history for loss\n",
    "plt.plot(history.history['loss'])\n",
    "plt.plot(history.history['val_loss'])\n",
    "plt.title('model loss')\n",
    "plt.ylabel('loss')\n",
    "plt.xlabel('epoch')\n",
    "plt.legend(['train', 'test'], loc='upper left')\n",
    "plt.show()"
   ]
  }
 ],
 "metadata": {
  "kernelspec": {
   "display_name": "Python 3",
   "language": "python",
   "name": "python3"
  },
  "language_info": {
   "codemirror_mode": {
    "name": "ipython",
    "version": 3
   },
   "file_extension": ".py",
   "mimetype": "text/x-python",
   "name": "python",
   "nbconvert_exporter": "python",
   "pygments_lexer": "ipython3",
   "version": "3.6.7"
  }
 },
 "nbformat": 4,
 "nbformat_minor": 1
}
