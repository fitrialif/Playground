{
 "cells": [
  {
   "cell_type": "markdown",
   "metadata": {},
   "source": [
    "# Walmart sales prediction\n",
    "\n",
    "#### March 23, 2019\n",
    "#### Luis Da Silva\n",
    "This notebook builds upon the process made by the \"EDA and cleaning\" notebook to predict sales with a range of different methods."
   ]
  },
  {
   "cell_type": "code",
   "execution_count": 1,
   "metadata": {},
   "outputs": [
    {
     "name": "stderr",
     "output_type": "stream",
     "text": [
      "Using TensorFlow backend.\n"
     ]
    }
   ],
   "source": [
    "import pandas as pd\n",
    "import numpy as np\n",
    "import matplotlib.pyplot as plt\n",
    "import seaborn as sns\n",
    "import datetime\n",
    "from joblib import dump, load\n",
    "from itertools import product\n",
    "\n",
    "from statsmodels.tsa.stattools import adfuller\n",
    "from scipy.stats import mode\n",
    "\n",
    "from sklearn.model_selection import TimeSeriesSplit, GridSearchCV\n",
    "from sklearn.preprocessing import MinMaxScaler, StandardScaler\n",
    "from sklearn.linear_model import LinearRegression, LassoCV, Lasso, ElasticNetCV, ElasticNet\n",
    "from sklearn.ensemble import RandomForestRegressor\n",
    "from sklearn.neural_network import MLPRegressor\n",
    "\n",
    "from keras.layers.core import Activation, Dense, Dropout\n",
    "from keras.layers.recurrent import LSTM\n",
    "from keras.models import Sequential\n",
    "from keras.callbacks import EarlyStopping\n",
    "\n",
    "from sklearn.exceptions import DataConversionWarning\n",
    "import warnings\n",
    "warnings.filterwarnings(action='ignore', category=DataConversionWarning)"
   ]
  },
  {
   "cell_type": "code",
   "execution_count": 2,
   "metadata": {},
   "outputs": [],
   "source": [
    "def wmae(holiday, y, y_pred):\n",
    "    \"\"\"Computes weighted mean absolute error\"\"\"\n",
    "    w = holiday*4 + 1\n",
    "    return -1 * (1 / w.sum()) * (w @ abs(y-y_pred))"
   ]
  },
  {
   "cell_type": "code",
   "execution_count": 3,
   "metadata": {},
   "outputs": [],
   "source": [
    "def train_test_split(X, y, dates, cut_date=None, subset=None, n=5):\n",
    "    '''Splits a dataset into test and train given a date'''\n",
    "    if subset is None:\n",
    "        subset = X.columns\n",
    "    \n",
    "    if cut_date is None:\n",
    "        cut_date = get_cut_date(dates, n)\n",
    "    \n",
    "    train_index = dates < cut_date\n",
    "    test_index = dates >= cut_date\n",
    "    \n",
    "    X_train, X_test = X[subset][train_index], X[subset][test_index]\n",
    "    y_train, y_test = y[train_index], y[test_index]\n",
    "    return X_train, X_test, y_train, y_test, test_index"
   ]
  },
  {
   "cell_type": "code",
   "execution_count": 4,
   "metadata": {},
   "outputs": [],
   "source": [
    "def splitter(dates, n=4):\n",
    "    '''Yields train and test indices given a time variable'''\n",
    "    cut_dates = get_dates(dates, n)\n",
    "    for i in range(len(cut_dates)-1):\n",
    "        train_idx = dates < cut_dates[i]\n",
    "        test_idx = np.logical_and(~train_idx, dates<cut_dates[i+1])\n",
    "        yield (train_idx, test_idx)"
   ]
  },
  {
   "cell_type": "code",
   "execution_count": 5,
   "metadata": {},
   "outputs": [],
   "source": [
    "def get_cut_date(dates, n):\n",
    "    '''Returns the 100/n percentile date'''\n",
    "    udates = np.unique(dates)\n",
    "    udates.sort()\n",
    "    ndates = udates.shape[0]\n",
    "    cut_date = udates[-int(ndates/n)]\n",
    "    return cut_date"
   ]
  },
  {
   "cell_type": "code",
   "execution_count": 6,
   "metadata": {},
   "outputs": [],
   "source": [
    "def scaler(X_train, X_test, y_train, y_test, feature_range=(-1,1), minmax=True):\n",
    "    '''Scales variables'''\n",
    "    if minmax:\n",
    "        scalery = MinMaxScaler(feature_range=feature_range)\n",
    "        scalerX = MinMaxScaler(feature_range=feature_range)\n",
    "    else:\n",
    "        scalerX = StandardScaler()\n",
    "        scalery = StandardScaler()\n",
    "    \n",
    "    X_train = scalerX.fit_transform(X_train)\n",
    "    X_test = scalerX.transform(X_test)\n",
    "\n",
    "    y_train = scalery.fit_transform(pd.DataFrame(y_train))\n",
    "    y_test = scalery.transform(pd.DataFrame(y_test))\n",
    "    \n",
    "    return X_train, X_test, y_train, y_test, scalerX, scalery"
   ]
  },
  {
   "cell_type": "code",
   "execution_count": 7,
   "metadata": {},
   "outputs": [],
   "source": [
    "def cv_score(model, X, y, subset, dates=None, cut_date=None, \n",
    "             cv=4, scale=False, feature_range=(-1,1), minmax=True):\n",
    "    '''Cross Validation procedure'''\n",
    "    score = []\n",
    "    results = {}\n",
    "    \n",
    "    X_train, X_test, y_train, y_test, test_index = train_test_split(X, y, dates=dates, \n",
    "                                                                        cut_date=cut_date,\n",
    "                                                                        subset=subset, n=cv)\n",
    "    \n",
    "    if scale:\n",
    "        X_train, X_test, y_train, _, scalerX, scalery = scaler(X_train, X_test, y_train, y_test, \n",
    "                                                               feature_range, minmax)\n",
    "        results['scalerX'] = scalerX\n",
    "        results['scalery'] = scalery\n",
    "    \n",
    "    model.fit(X_train, y_train)\n",
    "    y_pred = model.predict(X_test)\n",
    "    \n",
    "    if scale:\n",
    "        y_pred = scalery.inverse_transform(y_pred)\n",
    "    \n",
    "    score.append(wmae(X['IsHoliday_weight'][test_index], y_test, y_pred))\n",
    "    results['score'] = np.mean(score)\n",
    "    results['test'] = y_test\n",
    "    results['pred'] = y_pred\n",
    "    results['test_idx'] = test_index\n",
    "    return results"
   ]
  },
  {
   "cell_type": "code",
   "execution_count": 8,
   "metadata": {},
   "outputs": [],
   "source": [
    "def fw_cv_selection(X, y, model, scale=False, stopping=None, min_decrease=0, \n",
    "                    verbose=True, cut_date=None):\n",
    "    \"\"\"\n",
    "    Helper function to perform forward selection\n",
    "    \"\"\"\n",
    "    if verbose:\n",
    "        print(\"Initializing forward selection process...\")\n",
    "        itime = datetime.datetime.now()\n",
    "    if min_decrease >= 1:\n",
    "        min_decrease /= 100\n",
    "\n",
    "    no_update = 0\n",
    "\n",
    "    all_features = list(X.columns)\n",
    "    selected_features = []\n",
    "    all_first = True\n",
    "    \n",
    "    for r in range(len(all_features)):\n",
    "        rtime = datetime.datetime.now()\n",
    "        untested_features = [f for f in all_features if f not in selected_features]\n",
    "        first = True\n",
    "\n",
    "        for f1 in untested_features:\n",
    "            features = selected_features + [f1]\n",
    "            results = cv_score(model, X, y, features, dates, cut_date=cut_date, scale=scale)\n",
    "            if first:\n",
    "                first = False\n",
    "                best_score_this_round = results['score']\n",
    "                best_feature_this_round = f1\n",
    "                if all_first:\n",
    "                    all_first = False\n",
    "                    best_features = features\n",
    "                    best_results = results\n",
    "            elif results['score'] > best_score_this_round * (1+min_decrease):\n",
    "                best_score_this_round = results['score']\n",
    "                best_feature_this_round = f1\n",
    "                if results['score'] > best_results['score']:\n",
    "                    best_features = features\n",
    "                    best_results = results\n",
    "                    no_update = -1\n",
    "        no_update += 1\n",
    "        \n",
    "        # Stop searching if has been A rounds without updating\n",
    "        if stopping is not None and no_update >= stopping:\n",
    "            if verbose:\n",
    "                print('Searching stopped on round {} after {} rounds without updating best subset.'.format(r+1,stopping))\n",
    "            break\n",
    "        \n",
    "        if verbose:\n",
    "            time_dif = datetime.datetime.now() - itime\n",
    "            r_dif = datetime.datetime.now() - rtime\n",
    "            t_pred = time_dif / (r+1) * len(all_features)\n",
    "            print(\"Round {} completed in {} ({} total, {} predicted).\\n{} features selected so far with score {}.\".\\\n",
    "                  format(r+1, r_dif, time_dif, t_pred, len(best_features),best_results['score']))\n",
    "\n",
    "        selected_features.append(best_feature_this_round)\n",
    "\n",
    "    return results, best_features"
   ]
  },
  {
   "cell_type": "code",
   "execution_count": 9,
   "metadata": {},
   "outputs": [],
   "source": [
    "def stationarity(X, verbose = True):\n",
    "    '''Calculates stationarity measures'''\n",
    "    result = adfuller(X.values)\n",
    "    if verbose:\n",
    "        print('ADF Statistic: %f' % result[0])\n",
    "        print('p-value: %f' % result[1])\n",
    "        print('Critical Values:')\n",
    "        for key, value in result[4].items():\n",
    "            print('\\t%s: %.3f' % (key, value))\n",
    "    return result"
   ]
  },
  {
   "cell_type": "code",
   "execution_count": 10,
   "metadata": {},
   "outputs": [],
   "source": [
    "def read_clean_df(train=True):\n",
    "    if train:\n",
    "        path = '../data/merged_train_data.csv'\n",
    "    else:\n",
    "        path = '../data/merged_test_data.csv'\n",
    "        \n",
    "    df = pd.read_csv(path).iloc[:,1:]\n",
    "    df.rename(index=str, columns={'Size (sq ft)':'Size'}, inplace=True)\n",
    "    df.drop(['Date-1', 'Date-2', 'Promotion17', 'Promotion114',\n",
    "             'Promotion121', 'Year', 'HighPromoter1', 'LowPromoter1',\n",
    "             'HighPromoter2', 'LowPromoter2', 'HighPromoter3',\n",
    "             'LowPromoter3', 'HighPromoter4', 'LowPromoter4',\n",
    "             'HighPromoter5', 'LowPromoter5',], axis=1, inplace=True)\n",
    "    if train:\n",
    "        df.drop(['ImportantHoliday'], axis=1, inplace=True)\n",
    "        df.loc[df['Weekly_Sales'] < 0, 'Weekly_Sales'] = 0\n",
    "    \n",
    "    df['Date'] = pd.to_datetime(df['Date'])\n",
    "    df['IsHoliday_weight'] = df['IsHoliday']\n",
    "    df['AllDept'] = df['Dept']\n",
    "    df = pd.get_dummies(df, columns=['Type', 'Dept'])\n",
    "    df.sort_values(['Date', 'Store', 'AllDept'], inplace=True)\n",
    "    \n",
    "    if train:\n",
    "        # Very low weekly sales will be replaced by 0s\n",
    "        threshold = df.groupby(['Store', 'AllDept'])['Weekly_Sales'].mean()/50\n",
    "        for idx, v in zip(threshold.index, threshold):\n",
    "            mask = np.logical_and(df['Store']==idx[0], df['AllDept']==idx[1])\n",
    "            mask = np.logical_and(mask, df['Weekly_Sales']<=v)\n",
    "            df.loc[mask, 'Weekly_Sales'] = 0\n",
    "    return df"
   ]
  },
  {
   "cell_type": "code",
   "execution_count": 11,
   "metadata": {},
   "outputs": [],
   "source": [
    "def get_dates(dates, n=4):\n",
    "    udates = np.unique(dates)\n",
    "    udates.sort()\n",
    "    ndates = udates.shape[0]\n",
    "    idxs = [int((1/(n+1))*i*ndates)-1 for i in range(1, n+2)]\n",
    "    return udates[idxs]"
   ]
  },
  {
   "cell_type": "code",
   "execution_count": 12,
   "metadata": {},
   "outputs": [],
   "source": [
    "def add_ARIMA_features(data, p, d, q, group=['Store', 'AllDept'], \n",
    "                       target='Weekly_Sales', drop=True, X_predict=False):\n",
    "    '''Adds ARIMA features to a dataset'''\n",
    "    dropx = ['Date', 'Store', 'Weekly_Sales']\n",
    "    added = []\n",
    "    \n",
    "    # Add I:\n",
    "    if d > 0:\n",
    "        data['I{}'.format(d)] = data[target] - data.groupby(group)[target].shift(d)\n",
    "        target = 'I{}'.format(d)\n",
    "        dropx += [target]\n",
    "        added.append('I{}'.format(d))\n",
    "    \n",
    "    # Add AR:\n",
    "    for i in range(1, p+1):\n",
    "        data['AR{}'.format(i)] = data.groupby(group)[target].shift(i).values\n",
    "        added.append('AR{}'.format(i))\n",
    "    \n",
    "    # Add MA:\n",
    "    for i in range(1, q+1):\n",
    "        data.sort_values(group + ['Date'], inplace=True)\n",
    "        data['__t__'] = data.groupby(group)[target].rolling(i).mean().values\n",
    "        data['MA{}'.format(i)] = data.groupby(group)['__t__'].shift(1)\n",
    "        data.drop('__t__', axis=1, inplace=True)\n",
    "        added.append('MA{}'.format(i))\n",
    "        \n",
    "    dates = data.dropna()['Date']\n",
    "    X = data.dropna().drop(dropx, axis=1)\n",
    "    y = data.dropna()[target]\n",
    "    drop_idx = data.isnull().sum(axis=1) == 0\n",
    "    \n",
    "    if X_predict:\n",
    "        ynull = data[target].isnull()\n",
    "        X_predict = data[ynull].drop(dropx, axis=1)\n",
    "        if drop:\n",
    "            data.drop(added, axis=1, inplace=True)\n",
    "        return X, y, dates, drop_idx, X_predict\n",
    "    \n",
    "    if drop:\n",
    "        data.drop(added, axis=1, inplace=True)\n",
    "        \n",
    "    return X, y, dates, drop_idx"
   ]
  },
  {
   "cell_type": "code",
   "execution_count": 13,
   "metadata": {},
   "outputs": [
    {
     "data": {
      "text/html": [
       "<div>\n",
       "<style scoped>\n",
       "    .dataframe tbody tr th:only-of-type {\n",
       "        vertical-align: middle;\n",
       "    }\n",
       "\n",
       "    .dataframe tbody tr th {\n",
       "        vertical-align: top;\n",
       "    }\n",
       "\n",
       "    .dataframe thead th {\n",
       "        text-align: right;\n",
       "    }\n",
       "</style>\n",
       "<table border=\"1\" class=\"dataframe\">\n",
       "  <thead>\n",
       "    <tr style=\"text-align: right;\">\n",
       "      <th></th>\n",
       "      <th>Store</th>\n",
       "      <th>Date</th>\n",
       "      <th>Weekly_Sales</th>\n",
       "      <th>IsHoliday</th>\n",
       "      <th>Temperature</th>\n",
       "      <th>Fuel_Price</th>\n",
       "      <th>Promotion1</th>\n",
       "      <th>Promotion2</th>\n",
       "      <th>Promotion3</th>\n",
       "      <th>Promotion4</th>\n",
       "      <th>...</th>\n",
       "      <th>Dept_90</th>\n",
       "      <th>Dept_91</th>\n",
       "      <th>Dept_92</th>\n",
       "      <th>Dept_93</th>\n",
       "      <th>Dept_94</th>\n",
       "      <th>Dept_95</th>\n",
       "      <th>Dept_96</th>\n",
       "      <th>Dept_97</th>\n",
       "      <th>Dept_98</th>\n",
       "      <th>Dept_99</th>\n",
       "    </tr>\n",
       "  </thead>\n",
       "  <tbody>\n",
       "    <tr>\n",
       "      <th>0</th>\n",
       "      <td>1</td>\n",
       "      <td>2010-02-05</td>\n",
       "      <td>24924.50</td>\n",
       "      <td>False</td>\n",
       "      <td>42.31</td>\n",
       "      <td>2.572</td>\n",
       "      <td>9539.187953</td>\n",
       "      <td>2077.0114</td>\n",
       "      <td>1.854133</td>\n",
       "      <td>45696.30755</td>\n",
       "      <td>...</td>\n",
       "      <td>0</td>\n",
       "      <td>0</td>\n",
       "      <td>0</td>\n",
       "      <td>0</td>\n",
       "      <td>0</td>\n",
       "      <td>0</td>\n",
       "      <td>0</td>\n",
       "      <td>0</td>\n",
       "      <td>0</td>\n",
       "      <td>0</td>\n",
       "    </tr>\n",
       "    <tr>\n",
       "      <th>1</th>\n",
       "      <td>1</td>\n",
       "      <td>2010-02-05</td>\n",
       "      <td>50605.27</td>\n",
       "      <td>False</td>\n",
       "      <td>42.31</td>\n",
       "      <td>2.572</td>\n",
       "      <td>9539.187953</td>\n",
       "      <td>2077.0114</td>\n",
       "      <td>1.854133</td>\n",
       "      <td>45696.30755</td>\n",
       "      <td>...</td>\n",
       "      <td>0</td>\n",
       "      <td>0</td>\n",
       "      <td>0</td>\n",
       "      <td>0</td>\n",
       "      <td>0</td>\n",
       "      <td>0</td>\n",
       "      <td>0</td>\n",
       "      <td>0</td>\n",
       "      <td>0</td>\n",
       "      <td>0</td>\n",
       "    </tr>\n",
       "    <tr>\n",
       "      <th>2</th>\n",
       "      <td>1</td>\n",
       "      <td>2010-02-05</td>\n",
       "      <td>13740.12</td>\n",
       "      <td>False</td>\n",
       "      <td>42.31</td>\n",
       "      <td>2.572</td>\n",
       "      <td>9539.187953</td>\n",
       "      <td>2077.0114</td>\n",
       "      <td>1.854133</td>\n",
       "      <td>45696.30755</td>\n",
       "      <td>...</td>\n",
       "      <td>0</td>\n",
       "      <td>0</td>\n",
       "      <td>0</td>\n",
       "      <td>0</td>\n",
       "      <td>0</td>\n",
       "      <td>0</td>\n",
       "      <td>0</td>\n",
       "      <td>0</td>\n",
       "      <td>0</td>\n",
       "      <td>0</td>\n",
       "    </tr>\n",
       "    <tr>\n",
       "      <th>3</th>\n",
       "      <td>1</td>\n",
       "      <td>2010-02-05</td>\n",
       "      <td>39954.04</td>\n",
       "      <td>False</td>\n",
       "      <td>42.31</td>\n",
       "      <td>2.572</td>\n",
       "      <td>9539.187953</td>\n",
       "      <td>2077.0114</td>\n",
       "      <td>1.854133</td>\n",
       "      <td>45696.30755</td>\n",
       "      <td>...</td>\n",
       "      <td>0</td>\n",
       "      <td>0</td>\n",
       "      <td>0</td>\n",
       "      <td>0</td>\n",
       "      <td>0</td>\n",
       "      <td>0</td>\n",
       "      <td>0</td>\n",
       "      <td>0</td>\n",
       "      <td>0</td>\n",
       "      <td>0</td>\n",
       "    </tr>\n",
       "    <tr>\n",
       "      <th>4</th>\n",
       "      <td>1</td>\n",
       "      <td>2010-02-05</td>\n",
       "      <td>32229.38</td>\n",
       "      <td>False</td>\n",
       "      <td>42.31</td>\n",
       "      <td>2.572</td>\n",
       "      <td>9539.187953</td>\n",
       "      <td>2077.0114</td>\n",
       "      <td>1.854133</td>\n",
       "      <td>45696.30755</td>\n",
       "      <td>...</td>\n",
       "      <td>0</td>\n",
       "      <td>0</td>\n",
       "      <td>0</td>\n",
       "      <td>0</td>\n",
       "      <td>0</td>\n",
       "      <td>0</td>\n",
       "      <td>0</td>\n",
       "      <td>0</td>\n",
       "      <td>0</td>\n",
       "      <td>0</td>\n",
       "    </tr>\n",
       "  </tbody>\n",
       "</table>\n",
       "<p>5 rows × 226 columns</p>\n",
       "</div>"
      ],
      "text/plain": [
       "   Store       Date  Weekly_Sales  IsHoliday  Temperature  Fuel_Price  \\\n",
       "0      1 2010-02-05      24924.50      False        42.31       2.572   \n",
       "1      1 2010-02-05      50605.27      False        42.31       2.572   \n",
       "2      1 2010-02-05      13740.12      False        42.31       2.572   \n",
       "3      1 2010-02-05      39954.04      False        42.31       2.572   \n",
       "4      1 2010-02-05      32229.38      False        42.31       2.572   \n",
       "\n",
       "    Promotion1  Promotion2  Promotion3   Promotion4   ...     Dept_90  \\\n",
       "0  9539.187953   2077.0114    1.854133  45696.30755   ...           0   \n",
       "1  9539.187953   2077.0114    1.854133  45696.30755   ...           0   \n",
       "2  9539.187953   2077.0114    1.854133  45696.30755   ...           0   \n",
       "3  9539.187953   2077.0114    1.854133  45696.30755   ...           0   \n",
       "4  9539.187953   2077.0114    1.854133  45696.30755   ...           0   \n",
       "\n",
       "   Dept_91  Dept_92  Dept_93  Dept_94  Dept_95  Dept_96  Dept_97  Dept_98  \\\n",
       "0        0        0        0        0        0        0        0        0   \n",
       "1        0        0        0        0        0        0        0        0   \n",
       "2        0        0        0        0        0        0        0        0   \n",
       "3        0        0        0        0        0        0        0        0   \n",
       "4        0        0        0        0        0        0        0        0   \n",
       "\n",
       "   Dept_99  \n",
       "0        0  \n",
       "1        0  \n",
       "2        0  \n",
       "3        0  \n",
       "4        0  \n",
       "\n",
       "[5 rows x 226 columns]"
      ]
     },
     "execution_count": 13,
     "metadata": {},
     "output_type": "execute_result"
    }
   ],
   "source": [
    "df = read_clean_df()\n",
    "df.head()"
   ]
  },
  {
   "cell_type": "code",
   "execution_count": 14,
   "metadata": {},
   "outputs": [],
   "source": [
    "tdf = read_clean_df(False)"
   ]
  },
  {
   "cell_type": "code",
   "execution_count": 15,
   "metadata": {},
   "outputs": [
    {
     "name": "stdout",
     "output_type": "stream",
     "text": [
      "ADF Statistic: -5.930840\n",
      "p-value: 0.000000\n",
      "Critical Values:\n",
      "\t1%: -3.479\n",
      "\t5%: -2.883\n",
      "\t10%: -2.578\n"
     ]
    }
   ],
   "source": [
    "# In general, the series is stationary\n",
    "stationarity(df.groupby('Date').mean()['Weekly_Sales'])"
   ]
  },
  {
   "cell_type": "code",
   "execution_count": 138,
   "metadata": {},
   "outputs": [
    {
     "name": "stdout",
     "output_type": "stream",
     "text": [
      "ADF Statistic mean: -4.19\n",
      "ADF Statistic std: 1.98\n",
      "p-value mean: 0.08662\n",
      "p-value std: 0.18463\n"
     ]
    }
   ],
   "source": [
    "# Per store and department, series doesn't seem to be stationary\n",
    "pvalues = []\n",
    "statistic = []\n",
    "for store in df['Store'].unique():\n",
    "    smask = df['Store']==store\n",
    "    for dept in df[smask]['AllDept'].unique():\n",
    "        mask = np.logical_and(smask, df['AllDept']==dept)\n",
    "        if mask.sum() < 100:\n",
    "            continue\n",
    "        try:\n",
    "            result = stationarity(df[mask]['Weekly_Sales'], False)\n",
    "            statistic.append(result[0])\n",
    "            pvalues.append(result[1])\n",
    "        except ValueError:\n",
    "            continue\n",
    "\n",
    "statistic = np.array(statistic)[~np.isnan(statistic)]\n",
    "pvalues = np.array(pvalues)[~np.isnan(pvalues)]\n",
    "print('ADF Statistic mean: {:.2f}'.format(np.mean(statistic)))\n",
    "print('ADF Statistic std: {:.2f}'.format(np.std(statistic)))\n",
    "print('p-value mean: {:.5f}'.format(np.mean(pvalues)))\n",
    "print('p-value std: {:.5f}'.format(np.std(pvalues)))"
   ]
  },
  {
   "cell_type": "code",
   "execution_count": 140,
   "metadata": {},
   "outputs": [
    {
     "data": {
      "image/png": "[encoded data removed]",
      "text/plain": [
       "<Figure size 432x288 with 1 Axes>"
      ]
     },
     "metadata": {
      "needs_background": "light"
     },
     "output_type": "display_data"
    }
   ],
   "source": [
    "sns.distplot(pvalues)\n",
    "plt.xlabel('P-value')\n",
    "plt.ylabel('Frequency')\n",
    "plt.savefig('../graphs/pvalues.png')\n",
    "plt.show()"
   ]
  },
  {
   "cell_type": "code",
   "execution_count": 143,
   "metadata": {},
   "outputs": [
    {
     "data": {
      "text/plain": [
       "array([5.00320959e-12, 3.21562184e-01, 5.13022520e-01, 5.62875999e-01,\n",
       "       6.91454127e-01, 8.47557261e-01])"
      ]
     },
     "execution_count": 143,
     "metadata": {},
     "output_type": "execute_result"
    }
   ],
   "source": [
    "np.percentile(pvalues,(5, 90, 94, 95, 97.5, 99))"
   ]
  },
  {
   "cell_type": "code",
   "execution_count": 15,
   "metadata": {},
   "outputs": [],
   "source": [
    "def add_last_year_sales(df):\n",
    "    df['LastYearDate'] = df['Date']-datetime.timedelta(weeks=52)\n",
    "    df = df.merge(df[['Date', 'Weekly_Sales', 'Store', 'AllDept']], \n",
    "                  left_on=['LastYearDate', 'Store', 'AllDept'], \n",
    "                  right_on=['Date','Store', 'AllDept'], how='left')\n",
    "    df.rename(index=str, columns={'Weekly_Sales_y':'LastYearSales',\n",
    "                                  'Weekly_Sales_x':'Weekly_Sales',\n",
    "                                  'Date_x':'Date'}, inplace=True)\n",
    "    df.drop(['LastYearDate', 'Date_y'], axis=1, inplace=True)\n",
    "    return df"
   ]
  },
  {
   "cell_type": "code",
   "execution_count": 16,
   "metadata": {},
   "outputs": [],
   "source": [
    "df = add_last_year_sales(df)"
   ]
  },
  {
   "cell_type": "code",
   "execution_count": 32,
   "metadata": {},
   "outputs": [
    {
     "data": {
      "text/plain": [
       "['Store',\n",
       " 'Date',\n",
       " 'Weekly_Sales',\n",
       " 'IsHoliday',\n",
       " 'Temperature',\n",
       " 'Fuel_Price',\n",
       " 'Promotion1',\n",
       " 'Promotion2',\n",
       " 'Promotion3',\n",
       " 'Promotion4',\n",
       " 'Promotion5',\n",
       " 'CPI',\n",
       " 'Unemployment',\n",
       " 'Superbowl',\n",
       " 'Superbowl_l7',\n",
       " 'Superbowl_l14',\n",
       " 'Superbowl_l-7',\n",
       " 'Labor',\n",
       " 'Labor_l7',\n",
       " 'Labor_l14',\n",
       " 'Labor_l-7',\n",
       " 'ThanksGiving',\n",
       " 'ThanksGiving_l7',\n",
       " 'ThanksGiving_l14',\n",
       " 'ThanksGiving_l-7',\n",
       " 'Christmas',\n",
       " 'Christmas_l7',\n",
       " 'Christmas_l14',\n",
       " 'Christmas_l-7',\n",
       " 'Day',\n",
       " 'Store_1',\n",
       " 'Store_2',\n",
       " 'Store_3',\n",
       " 'Store_4',\n",
       " 'Store_5',\n",
       " 'Store_6',\n",
       " 'Store_7',\n",
       " 'Store_8',\n",
       " 'Store_9',\n",
       " 'Store_10',\n",
       " 'Store_11',\n",
       " 'Store_12',\n",
       " 'Store_13',\n",
       " 'Store_14',\n",
       " 'Store_15',\n",
       " 'Store_16',\n",
       " 'Store_17',\n",
       " 'Store_18',\n",
       " 'Store_19',\n",
       " 'Store_20',\n",
       " 'Store_21',\n",
       " 'Store_22',\n",
       " 'Store_23',\n",
       " 'Store_24',\n",
       " 'Store_25',\n",
       " 'Store_26',\n",
       " 'Store_27',\n",
       " 'Store_28',\n",
       " 'Store_29',\n",
       " 'Store_30',\n",
       " 'Store_31',\n",
       " 'Store_32',\n",
       " 'Store_33',\n",
       " 'Store_34',\n",
       " 'Store_35',\n",
       " 'Store_36',\n",
       " 'Store_37',\n",
       " 'Store_38',\n",
       " 'Store_39',\n",
       " 'Store_40',\n",
       " 'Store_41',\n",
       " 'Store_42',\n",
       " 'Store_43',\n",
       " 'Store_44',\n",
       " 'Store_45',\n",
       " 'Week_1',\n",
       " 'Week_2',\n",
       " 'Week_3',\n",
       " 'Week_4',\n",
       " 'Week_5',\n",
       " 'Week_6',\n",
       " 'Week_7',\n",
       " 'Week_8',\n",
       " 'Week_9',\n",
       " 'Week_10',\n",
       " 'Week_11',\n",
       " 'Week_12',\n",
       " 'Week_13',\n",
       " 'Week_14',\n",
       " 'Week_15',\n",
       " 'Week_16',\n",
       " 'Week_17',\n",
       " 'Week_18',\n",
       " 'Week_19',\n",
       " 'Week_20',\n",
       " 'Week_21',\n",
       " 'Week_22',\n",
       " 'Week_23',\n",
       " 'Week_24',\n",
       " 'Week_25',\n",
       " 'Week_26',\n",
       " 'Week_27',\n",
       " 'Week_28',\n",
       " 'Week_29',\n",
       " 'Week_30',\n",
       " 'Week_31',\n",
       " 'Week_32',\n",
       " 'Week_33',\n",
       " 'Week_34',\n",
       " 'Week_35',\n",
       " 'Week_36',\n",
       " 'Week_37',\n",
       " 'Week_38',\n",
       " 'Week_39',\n",
       " 'Week_40',\n",
       " 'Week_41',\n",
       " 'Week_42',\n",
       " 'Week_43',\n",
       " 'Week_44',\n",
       " 'Week_45',\n",
       " 'Week_46',\n",
       " 'Week_47',\n",
       " 'Week_48',\n",
       " 'Week_49',\n",
       " 'Week_50',\n",
       " 'Week_51',\n",
       " 'Week_52',\n",
       " 'Month_1',\n",
       " 'Month_2',\n",
       " 'Month_3',\n",
       " 'Month_4',\n",
       " 'Month_5',\n",
       " 'Month_6',\n",
       " 'Month_7',\n",
       " 'Month_8',\n",
       " 'Month_9',\n",
       " 'Month_10',\n",
       " 'Month_11',\n",
       " 'Month_12',\n",
       " 'Size',\n",
       " 'IsHoliday_weight',\n",
       " 'AllDept',\n",
       " 'Type_A',\n",
       " 'Type_B',\n",
       " 'Type_C',\n",
       " 'Dept_1',\n",
       " 'Dept_2',\n",
       " 'Dept_3',\n",
       " 'Dept_4',\n",
       " 'Dept_5',\n",
       " 'Dept_6',\n",
       " 'Dept_7',\n",
       " 'Dept_8',\n",
       " 'Dept_9',\n",
       " 'Dept_10',\n",
       " 'Dept_11',\n",
       " 'Dept_12',\n",
       " 'Dept_13',\n",
       " 'Dept_14',\n",
       " 'Dept_16',\n",
       " 'Dept_17',\n",
       " 'Dept_18',\n",
       " 'Dept_19',\n",
       " 'Dept_20',\n",
       " 'Dept_21',\n",
       " 'Dept_22',\n",
       " 'Dept_23',\n",
       " 'Dept_24',\n",
       " 'Dept_25',\n",
       " 'Dept_26',\n",
       " 'Dept_27',\n",
       " 'Dept_28',\n",
       " 'Dept_29',\n",
       " 'Dept_30',\n",
       " 'Dept_31',\n",
       " 'Dept_32',\n",
       " 'Dept_33',\n",
       " 'Dept_34',\n",
       " 'Dept_35',\n",
       " 'Dept_36',\n",
       " 'Dept_37',\n",
       " 'Dept_38',\n",
       " 'Dept_39',\n",
       " 'Dept_40',\n",
       " 'Dept_41',\n",
       " 'Dept_42',\n",
       " 'Dept_43',\n",
       " 'Dept_44',\n",
       " 'Dept_45',\n",
       " 'Dept_46',\n",
       " 'Dept_47',\n",
       " 'Dept_48',\n",
       " 'Dept_49',\n",
       " 'Dept_50',\n",
       " 'Dept_51',\n",
       " 'Dept_52',\n",
       " 'Dept_54',\n",
       " 'Dept_55',\n",
       " 'Dept_56',\n",
       " 'Dept_58',\n",
       " 'Dept_59',\n",
       " 'Dept_60',\n",
       " 'Dept_65',\n",
       " 'Dept_67',\n",
       " 'Dept_71',\n",
       " 'Dept_72',\n",
       " 'Dept_74',\n",
       " 'Dept_77',\n",
       " 'Dept_78',\n",
       " 'Dept_79',\n",
       " 'Dept_80',\n",
       " 'Dept_81',\n",
       " 'Dept_82',\n",
       " 'Dept_83',\n",
       " 'Dept_85',\n",
       " 'Dept_87',\n",
       " 'Dept_90',\n",
       " 'Dept_91',\n",
       " 'Dept_92',\n",
       " 'Dept_93',\n",
       " 'Dept_94',\n",
       " 'Dept_95',\n",
       " 'Dept_96',\n",
       " 'Dept_97',\n",
       " 'Dept_98',\n",
       " 'Dept_99',\n",
       " 'LastYearSales',\n",
       " 'Store_AllDept',\n",
       " 'Store_1_Dept_1',\n",
       " 'Store_2_Dept_2',\n",
       " 'Store_3_Dept_3',\n",
       " 'Store_4_Dept_4',\n",
       " 'Store_5_Dept_5',\n",
       " 'Store_6_Dept_6',\n",
       " 'Store_7_Dept_7',\n",
       " 'Store_8_Dept_8',\n",
       " 'Store_9_Dept_9',\n",
       " 'Store_10_Dept_10',\n",
       " 'Store_11_Dept_11',\n",
       " 'Store_12_Dept_12',\n",
       " 'Store_13_Dept_13',\n",
       " 'Store_14_Dept_14',\n",
       " 'Store_15_Dept_16',\n",
       " 'Store_16_Dept_17',\n",
       " 'Store_17_Dept_18',\n",
       " 'Store_18_Dept_19',\n",
       " 'Store_19_Dept_20',\n",
       " 'Store_20_Dept_21',\n",
       " 'Store_21_Dept_22',\n",
       " 'Store_22_Dept_23',\n",
       " 'Store_23_Dept_24',\n",
       " 'Store_24_Dept_25',\n",
       " 'Store_25_Dept_26',\n",
       " 'Store_26_Dept_27',\n",
       " 'Store_27_Dept_28',\n",
       " 'Store_28_Dept_29',\n",
       " 'Store_29_Dept_30',\n",
       " 'Store_30_Dept_31',\n",
       " 'Store_31_Dept_32',\n",
       " 'Store_32_Dept_33',\n",
       " 'Store_33_Dept_34',\n",
       " 'Store_34_Dept_35',\n",
       " 'Store_35_Dept_36',\n",
       " 'Store_36_Dept_37',\n",
       " 'Store_37_Dept_38',\n",
       " 'Store_38_Dept_39',\n",
       " 'Store_39_Dept_40',\n",
       " 'Store_40_Dept_41',\n",
       " 'Store_41_Dept_42',\n",
       " 'Store_42_Dept_43',\n",
       " 'Store_43_Dept_44',\n",
       " 'Store_44_Dept_45',\n",
       " 'Store_45_Dept_46']"
      ]
     },
     "execution_count": 32,
     "metadata": {},
     "output_type": "execute_result"
    }
   ],
   "source": [
    "columns = list(df.columns)\n",
    "columns"
   ]
  },
  {
   "cell_type": "code",
   "execution_count": 17,
   "metadata": {},
   "outputs": [],
   "source": [
    "# Adding seasonality\n",
    "dates = df.dropna()['Date']\n",
    "cut_date = get_cut_date(dates, 5)\n",
    "df['week'] = df.Date.dt.week\n",
    "seasonality = df[df['Date']<cut_date].groupby(['Store', 'AllDept', 'week'])[['Weekly_Sales']].mean()\n",
    "seasonality.columns = ['Seasonality']\n",
    "seasonality.reset_index(inplace=True)\n",
    "seasonality['Seasonality'] = seasonality['Seasonality'] - seasonality.groupby(['Store', 'AllDept'])['Seasonality'].shift(1)\n",
    "seasonality.fillna(0, inplace=True)\n",
    "df = df.merge(seasonality, on=['Store', 'AllDept', 'week'])"
   ]
  },
  {
   "cell_type": "code",
   "execution_count": 63,
   "metadata": {},
   "outputs": [
    {
     "data": {
      "text/plain": [
       "Text(0, 0.5, 'Change in Sales')"
      ]
     },
     "execution_count": 63,
     "metadata": {},
     "output_type": "execute_result"
    },
    {
     "data": {
      "image/png": "[encoded data removed]",
      "text/plain": [
       "<Figure size 432x288 with 1 Axes>"
      ]
     },
     "metadata": {
      "needs_background": "light"
     },
     "output_type": "display_data"
    }
   ],
   "source": [
    "mask = np.logical_and(seasonality['Store']==10, seasonality['AllDept']==1)\n",
    "plt.plot(range(1, mask.sum() + 1), seasonality[mask]['Seasonality'])\n",
    "plt.xlabel('Week')\n",
    "plt.ylabel('Change in Sales')"
   ]
  },
  {
   "cell_type": "markdown",
   "metadata": {},
   "source": [
    "# LASSO with ARIMA/ARMA and STLF"
   ]
  },
  {
   "cell_type": "code",
   "execution_count": 63,
   "metadata": {
    "scrolled": true
   },
   "outputs": [
    {
     "name": "stdout",
     "output_type": "stream",
     "text": [
      "*--*--*--*--*--*--*--*--*--*--*--*--*--*--*--*--*--*--*--*--*--*--*--*--*--*--*--*--*--*--\n",
      "(20, 0, 10)\n",
      "Score: -1441.7917551338603, Alpha: 548022.3646672769, Features: ['Promotion3', 'LastYearSales', 'Seasonality', 'AR1', 'AR2', 'AR4', 'AR5', 'AR6', 'AR7', 'AR8', 'AR9', 'AR11', 'AR13', 'AR15', 'AR16', 'AR17', 'AR18'].\n",
      "Time: 0:02:20.184066\n"
     ]
    }
   ],
   "source": [
    "best_pdq = (0, 0, 0)\n",
    "best_score = -1e99\n",
    "init = datetime.datetime.now()\n",
    "p = 20\n",
    "q = 10\n",
    "for d in (0, 1):\n",
    "    pdq = (p, d, q)\n",
    "    X, y, dates, drop_idx = add_ARIMA_features(df, p, d, q)\n",
    "    tscv = splitter(dates)\n",
    "    lasso = LassoCV(cv=tscv, n_alphas=1000).fit(X, y)\n",
    "    features = [name for coef,name in zip(lasso.coef_, X.columns) if not np.isclose(coef, 0)]\n",
    "    lasso_alpha = lasso.alpha_\n",
    "    lasso = Lasso(alpha=lasso_alpha)\n",
    "    lasso_r = cv_score(lasso, X, y, features, dates=dates, cut_date='2011-11-02')\n",
    "\n",
    "    if lasso_r['score'] > best_score:\n",
    "        best_pdq = pdq\n",
    "        best_score = lasso_r['score']\n",
    "        best_features = features\n",
    "        best_preds = lasso_r['pred']\n",
    "\n",
    "    print('*--'*30)\n",
    "    print(pdq)\n",
    "    print('Score: {}, Alpha: {}, Features: {}.'.format(lasso_r['score'], lasso_alpha, features))\n",
    "    diff = datetime.datetime.now() - init\n",
    "    print('Time: {}'.format(diff))"
   ]
  },
  {
   "cell_type": "code",
   "execution_count": 24,
   "metadata": {},
   "outputs": [],
   "source": [
    "lasso_features = features\n",
    "subdf = df[['Store', 'AllDept', 'Date']][drop_idx][lasso_r['test_idx']]\n",
    "subdf['pred'] = lasso_r['pred']\n",
    "subdf['test'] = lasso_r['test']"
   ]
  },
  {
   "cell_type": "code",
   "execution_count": 25,
   "metadata": {},
   "outputs": [
    {
     "data": {
      "text/plain": [
       "[]"
      ]
     },
     "execution_count": 25,
     "metadata": {},
     "output_type": "execute_result"
    },
    {
     "data": {
      "image/png": "[encoded data removed]",
      "text/plain": [
       "<Figure size 1080x216 with 1 Axes>"
      ]
     },
     "metadata": {
      "needs_background": "light"
     },
     "output_type": "display_data"
    }
   ],
   "source": [
    "plt.figure(figsize=(15,3))\n",
    "mask = np.logical_and(subdf['Store']==3, subdf['AllDept']==3)\n",
    "sns.lineplot(data = subdf[mask], x='Date', y='pred', label='preds')\n",
    "sns.lineplot(data = subdf[mask], x='Date', y='test', label='real')\n",
    "plt.legend()\n",
    "plt.tight_layout()\n",
    "plt.plot()"
   ]
  },
  {
   "cell_type": "markdown",
   "metadata": {},
   "source": [
    "# Elastic Net with ARIMA/ARMA and STLF"
   ]
  },
  {
   "cell_type": "code",
   "execution_count": 122,
   "metadata": {},
   "outputs": [
    {
     "name": "stdout",
     "output_type": "stream",
     "text": [
      "(20, 0, 10)\n",
      "Score: -15657.32708747224, Alpha: 540835.6070570898, L1: 1.0, Features: ['Promotion3', 'LastYearSales', 'Seasonality', 'AR1', 'AR2', 'AR4', 'AR5', 'AR6', 'AR7', 'AR8', 'AR9', 'AR11', 'AR13', 'AR15', 'AR16', 'AR17', 'AR18'].\n",
      "Time: 0:02:25.796056\n",
      "*--*--*--*--*--*--*--*--*--*--*--*--*--*--*--*--*--*--*--*--*--*--*--*--*--*--*--*--*--*--\n"
     ]
    }
   ],
   "source": [
    "init = datetime.datetime.now()\n",
    "p = 20\n",
    "q = 10\n",
    "for d in (0, 1):\n",
    "    pdq = (p, d, q)\n",
    "    X, y, dates, drop_idx = add_ARIMA_features(df, p, d, q)\n",
    "    tscv = splitter(dates)\n",
    "    elastic = ElasticNetCV(l1_ratio=[.1, .5, .7, .9, .95, .99, 1], cv=tscv).fit(X, y)\n",
    "    features = [name for coef,name in zip(elastic.coef_, X.columns) if not np.isclose(coef, 0)]\n",
    "    alpha = elastic.alpha_\n",
    "    l1_ratio = elastic.l1_ratio_\n",
    "    elastic = ElasticNet(alpha=alpha, l1_ratio=l1_ratio)\n",
    "    elastic_r = cv_score(elastic, X, y, features, dates=dates, cut_date='2011-11-02')\n",
    "\n",
    "    if elastic_r['score'] > best_score:\n",
    "        best_pdq = pdq\n",
    "        best_score = elastic_r['score']\n",
    "        best_features = features\n",
    "        best_preds = elastic_r['pred']\n",
    "        print('New Elastic Best Score!')\n",
    "\n",
    "    print(pdq)\n",
    "    print('Score: {}, Alpha: {}, L1: {}, Features: {}.'.format(elastic_r['score'], alpha, l1_ratio, features))\n",
    "    diff = datetime.datetime.now() - init\n",
    "    print('Time: {}'.format(diff))\n",
    "    print('*--'*30)"
   ]
  },
  {
   "cell_type": "code",
   "execution_count": 50,
   "metadata": {},
   "outputs": [],
   "source": [
    "elastic_features = features\n",
    "subdf = df[['Store', 'AllDept', 'Date']][drop_idx][elastic_r['test_idx']]\n",
    "subdf['pred'] = elastic_r['pred']\n",
    "subdf['test'] = elastic_r['test']"
   ]
  },
  {
   "cell_type": "code",
   "execution_count": 51,
   "metadata": {},
   "outputs": [
    {
     "data": {
      "text/plain": [
       "[]"
      ]
     },
     "execution_count": 51,
     "metadata": {},
     "output_type": "execute_result"
    },
    {
     "data": {
      "image/png": "[encoded data removed]",
      "text/plain": [
       "<Figure size 1080x216 with 1 Axes>"
      ]
     },
     "metadata": {
      "needs_background": "light"
     },
     "output_type": "display_data"
    }
   ],
   "source": [
    "plt.figure(figsize=(15,3))\n",
    "mask = np.logical_and(subdf['Store']==3, subdf['AllDept']==3)\n",
    "sns.lineplot(data = subdf[mask], x='Date', y='pred', label='preds')\n",
    "sns.lineplot(data = subdf[mask], x='Date', y='test', label='real')\n",
    "plt.legend()\n",
    "plt.tight_layout()\n",
    "plt.plot()"
   ]
  },
  {
   "cell_type": "markdown",
   "metadata": {},
   "source": [
    "# Forward Selection with Linear Model"
   ]
  },
  {
   "cell_type": "code",
   "execution_count": 78,
   "metadata": {
    "scrolled": true
   },
   "outputs": [
    {
     "name": "stdout",
     "output_type": "stream",
     "text": [
      "Initializing forward selection process...\n",
      "Round 1 completed in 0:00:10.843962 (0:00:10.843962 total, 0:46:16.054272 predicted).\n",
      "1 features selected so far with score -2016.37698693574.\n",
      "Round 2 completed in 0:00:12.135542 (0:00:22.979504 total, 0:49:01.376512 predicted).\n",
      "2 features selected so far with score -1950.7461501148834.\n",
      "Round 3 completed in 0:00:14.604938 (0:00:37.584442 total, 0:53:27.205632 predicted).\n",
      "2 features selected so far with score -1950.7461501148834.\n",
      "Round 4 completed in 0:00:15.201343 (0:00:52.786781 total, 0:56:18.353920 predicted).\n",
      "2 features selected so far with score -1950.7461501148834.\n",
      "Round 5 completed in 0:00:17.075332 (0:01:09.863110 total, 0:59:36.991232 predicted).\n",
      "2 features selected so far with score -1950.7461501148834.\n",
      "Round 6 completed in 0:00:19.060021 (0:01:28.924129 total, 1:03:14.096128 predicted).\n",
      "6 features selected so far with score -1937.3522162596794.\n",
      "Round 7 completed in 0:00:21.365855 (0:01:50.289984 total, 1:07:13.462272 predicted).\n",
      "7 features selected so far with score -1442.0136954867482.\n",
      "Round 8 completed in 0:00:23.144100 (0:02:13.434084 total, 1:11:09.890560 predicted).\n",
      "8 features selected so far with score -1436.8737886768056.\n",
      "Round 9 completed in 0:00:26.204911 (0:02:39.638995 total, 1:15:40.842496 predicted).\n",
      "8 features selected so far with score -1436.8737886768056.\n",
      "Round 10 completed in 0:00:27.837546 (0:03:07.477538 total, 1:19:59.425024 predicted).\n",
      "8 features selected so far with score -1436.8737886768056.\n",
      "Round 11 completed in 0:00:30.118449 (0:03:37.595987 total, 1:24:24.051968 predicted).\n",
      "8 features selected so far with score -1436.8737886768056.\n",
      "Searching stopped on round 12 after 4 rounds without updating best subset.\n",
      "Score: -1455.2248457644766, Features: ['LastYearSales', 'MA10', 'MA9', 'MA8', 'MA7', 'Seasonality', 'MA1', 'AR5'].\n"
     ]
    }
   ],
   "source": [
    "lm = LinearRegression()\n",
    "results_lm, best_features_lm = fw_cv_selection(X, y, lm, scale=False, stopping=4,\n",
    "                                               min_decrease=0.01, cut_date='2011-11-02')\n",
    "print('Score: {}, Features: {}.'.format(results_lm['score'], best_features_lm))"
   ]
  },
  {
   "cell_type": "code",
   "execution_count": 27,
   "metadata": {},
   "outputs": [
    {
     "data": {
      "text/plain": [
       "['LastYearSales', 'MA10', 'MA9', 'MA8', 'MA7', 'Seasonality', 'MA1', 'AR5']"
      ]
     },
     "execution_count": 27,
     "metadata": {},
     "output_type": "execute_result"
    }
   ],
   "source": [
    "best_features_lm"
   ]
  },
  {
   "cell_type": "code",
   "execution_count": 28,
   "metadata": {},
   "outputs": [],
   "source": [
    "subdf = df[['Store', 'AllDept', 'Date']][drop_idx][results_lm['test_idx']]\n",
    "subdf['pred'] = results_lm['pred']\n",
    "subdf['test'] = results_lm['test']"
   ]
  },
  {
   "cell_type": "code",
   "execution_count": 29,
   "metadata": {},
   "outputs": [
    {
     "data": {
      "text/plain": [
       "[]"
      ]
     },
     "execution_count": 29,
     "metadata": {},
     "output_type": "execute_result"
    },
    {
     "data": {
      "image/png": "[encoded data removed]",
      "text/plain": [
       "<Figure size 1080x216 with 1 Axes>"
      ]
     },
     "metadata": {
      "needs_background": "light"
     },
     "output_type": "display_data"
    }
   ],
   "source": [
    "plt.figure(figsize=(15,3))\n",
    "mask = np.logical_and(subdf['Store']==3, subdf['AllDept']==3)\n",
    "sns.lineplot(data = subdf[mask], x='Date', y='pred', label='preds')\n",
    "sns.lineplot(data = subdf[mask], x='Date', y='test', label='real')\n",
    "plt.legend()\n",
    "plt.tight_layout()\n",
    "plt.plot()"
   ]
  },
  {
   "cell_type": "markdown",
   "metadata": {},
   "source": [
    "# Random Forest"
   ]
  },
  {
   "cell_type": "code",
   "execution_count": 79,
   "metadata": {},
   "outputs": [
    {
     "data": {
      "text/plain": [
       "-1722.304064803418"
      ]
     },
     "execution_count": 79,
     "metadata": {},
     "output_type": "execute_result"
    }
   ],
   "source": [
    "rf = RandomForestRegressor(n_estimators=100, min_impurity_decrease=0.001, max_depth=None)\n",
    "#param_grid = {'max_depth':[8, 16, 32, None]}\n",
    "rf_r = cv_score(rf, X, y, best_features_lm, dates, cv=4, cut_date='2011-11-02')\n",
    "rf_r['score']"
   ]
  },
  {
   "cell_type": "code",
   "execution_count": 86,
   "metadata": {},
   "outputs": [],
   "source": [
    "subdf = df[['Store', 'AllDept', 'Date']][drop_idx][rf_r['test_idx']]\n",
    "subdf['pred'] = rf_r['pred']\n",
    "subdf['test'] = rf_r['test']"
   ]
  },
  {
   "cell_type": "code",
   "execution_count": 87,
   "metadata": {},
   "outputs": [
    {
     "data": {
      "text/plain": [
       "[]"
      ]
     },
     "execution_count": 87,
     "metadata": {},
     "output_type": "execute_result"
    },
    {
     "data": {
      "image/png": "[encoded data removed]",
      "text/plain": [
       "<Figure size 1080x216 with 1 Axes>"
      ]
     },
     "metadata": {
      "needs_background": "light"
     },
     "output_type": "display_data"
    }
   ],
   "source": [
    "plt.figure(figsize=(15,3))\n",
    "mask = np.logical_and(subdf['Store']==3, subdf['AllDept']==3)\n",
    "sns.lineplot(data = subdf[mask], x='Date', y='pred', label='preds')\n",
    "sns.lineplot(data = subdf[mask], x='Date', y='test', label='real')\n",
    "plt.legend()\n",
    "plt.tight_layout()\n",
    "plt.plot()"
   ]
  },
  {
   "cell_type": "markdown",
   "metadata": {},
   "source": [
    "# MLP"
   ]
  },
  {
   "cell_type": "code",
   "execution_count": 84,
   "metadata": {
    "scrolled": true
   },
   "outputs": [
    {
     "name": "stdout",
     "output_type": "stream",
     "text": [
      "Iteration 1, loss = 0.02067206\n",
      "Iteration 2, loss = 0.00500015\n",
      "Iteration 3, loss = 0.00438079\n",
      "Iteration 4, loss = 0.00420093\n",
      "Iteration 5, loss = 0.00422993\n",
      "Iteration 6, loss = 0.00407917\n",
      "Iteration 7, loss = 0.00400466\n",
      "Iteration 8, loss = 0.00399755\n",
      "Iteration 9, loss = 0.00384473\n",
      "Iteration 10, loss = 0.00371814\n",
      "Iteration 11, loss = 0.00366701\n",
      "Iteration 12, loss = 0.00370906\n",
      "Iteration 13, loss = 0.00366150\n",
      "Iteration 14, loss = 0.00359068\n",
      "Iteration 15, loss = 0.00361575\n",
      "Iteration 16, loss = 0.00352294\n",
      "Iteration 17, loss = 0.00350762\n",
      "Iteration 18, loss = 0.00346241\n",
      "Iteration 19, loss = 0.00338444\n",
      "Iteration 20, loss = 0.00342627\n",
      "Iteration 21, loss = 0.00341756\n",
      "Training loss did not improve more than tol=0.000100 for 10 consecutive epochs. Stopping.\n"
     ]
    },
    {
     "data": {
      "text/plain": [
       "-2037.1706567288868"
      ]
     },
     "execution_count": 84,
     "metadata": {},
     "output_type": "execute_result"
    }
   ],
   "source": [
    "mlp = MLPRegressor(hidden_layer_sizes=(200, 10), verbose=True)\n",
    "mlp_r = cv_score(mlp, X, y, features, dates, scale=True, minmax=False, cut_date='2011-11-02')\n",
    "mlp_r['score']"
   ]
  },
  {
   "cell_type": "code",
   "execution_count": 90,
   "metadata": {},
   "outputs": [
    {
     "data": {
      "text/plain": [
       "[]"
      ]
     },
     "execution_count": 90,
     "metadata": {},
     "output_type": "execute_result"
    },
    {
     "data": {
      "image/png": "[encoded data removed]",
      "text/plain": [
       "<Figure size 1080x216 with 1 Axes>"
      ]
     },
     "metadata": {
      "needs_background": "light"
     },
     "output_type": "display_data"
    }
   ],
   "source": [
    "subdf = df[['Store', 'AllDept', 'Date']][drop_idx][lasso_r['test_idx']]\n",
    "subdf['pred'] = rf_r['pred']\n",
    "subdf['test'] = rf_r['test']\n",
    "subdf['pred_lasso'] = lasso_r['pred']\n",
    "subdf['pred_mlp'] = mlp_r['pred']\n",
    "subdf['pred_linear'] = results_lm['pred']\n",
    "\n",
    "plt.figure(figsize=(15,3))\n",
    "s=10\n",
    "d=14\n",
    "mask = np.logical_and(subdf['Store']==s, subdf['AllDept']==d)\n",
    "sns.lineplot(data = subdf[mask], x='Date', y='test', label='Observed values')\n",
    "sns.lineplot(data = subdf[mask], x='Date', y='pred', label='RF', alpha=0.7)\n",
    "sns.lineplot(data = subdf[mask], x='Date', y='pred_lasso', label='Lasso', alpha=0.7)\n",
    "sns.lineplot(data = subdf[mask], x='Date', y='pred_mlp', label='MLP', alpha=0.7)\n",
    "plt.legend()\n",
    "plt.tight_layout()\n",
    "plt.savefig('../graphs/hoPreds{}_{}.png'.format(s,d))\n",
    "plt.plot()"
   ]
  },
  {
   "cell_type": "code",
   "execution_count": 146,
   "metadata": {},
   "outputs": [
    {
     "data": {
      "text/plain": [
       "-1422.3397397491399"
      ]
     },
     "execution_count": 146,
     "metadata": {},
     "output_type": "execute_result"
    }
   ],
   "source": [
    "# Averaging everything\n",
    "subdf['avg'] = subdf[['pred', 'pred_lasso', 'pred_mlp', 'pred_linear']].mean(axis=1)\n",
    "holi = X['IsHoliday_weight'][rf_r['test_idx']]\n",
    "wmae(holi, subdf['test'], subdf['avg'])"
   ]
  },
  {
   "cell_type": "markdown",
   "metadata": {},
   "source": [
    "# LSTM"
   ]
  },
  {
   "cell_type": "code",
   "execution_count": 52,
   "metadata": {},
   "outputs": [],
   "source": [
    "def build_lstm(neurons):\n",
    "    model = Sequential()\n",
    "    model.add(LSTM(neurons, stateful=False))\n",
    "    model.add(Dense(int(np.sqrt(neurons))))\n",
    "    model.add(Dense(1))\n",
    "    model.compile(loss='mean_squared_error', optimizer='adam')\n",
    "    return model\n",
    "\n",
    "def fit_lstm(model, X_train, X_test, y_train, y_test, batch_size, nb_epoch, weights=None, verbose=0):\n",
    "    X_train = X_train.reshape(int(X_train.shape[0]/batch_size), batch_size, X_train.shape[1])\n",
    "    X_test = X_test.reshape(int(X_test.shape[0]/batch_size), batch_size, X_test.shape[1])\n",
    "    y_train = y_train.reshape(int(y_train.shape[0]/batch_size), batch_size)\n",
    "    y_test = y_test.reshape(int(y_test.shape[0]/batch_size), batch_size)\n",
    "    \n",
    "    es = EarlyStopping(monitor='val_loss', min_delta=0.0001, patience=40, verbose=verbose, restore_best_weights=True)\n",
    "    \n",
    "    if weights is not None:\n",
    "        model.set_weights(weights)\n",
    "    \n",
    "    history = model.fit(X_train, y_train, epochs=nb_epoch, batch_size=batch_size, callbacks=[es],\n",
    "                        verbose=verbose, shuffle=False, validation_data=(X_test, y_test))\n",
    "    return model, history"
   ]
  },
  {
   "cell_type": "code",
   "execution_count": 12,
   "metadata": {},
   "outputs": [],
   "source": [
    "# Clean departments with wrong data\n",
    "var_list = ['IsHoliday', 'Temperature','Fuel_Price', 'Promotion1',\n",
    "            'Promotion2', 'Promotion3', 'Promotion4', 'Promotion5', 'CPI', 'Unemployment', 'Superbowl',\n",
    "            'Labor', 'ThanksGiving', 'Christmas', 'Weekly_Sales', 'Store', 'AllDept', 'Date']\n",
    "df = df[var_list].dropna()\n",
    "tdf = tdf[[i for i in var_list if i != 'Weekly_Sales']]"
   ]
  },
  {
   "cell_type": "code",
   "execution_count": 14,
   "metadata": {},
   "outputs": [],
   "source": [
    "var_list = [i for i in var_list if i not in ['Weekly_Sales', 'Store', 'AllDept', 'Date']]\n",
    "mask = np.logical_and(df['Store']==1, df['AllDept']==1)\n",
    "indX = df[mask][var_list]\n",
    "indy = df[mask]['Weekly_Sales']"
   ]
  },
  {
   "cell_type": "code",
   "execution_count": 15,
   "metadata": {},
   "outputs": [],
   "source": [
    "X_train, X_test, y_train, y_test = train_test_split(indX, indy)\n",
    "X_train, X_test, y_train, y_test, scalerX, scalery = scale(X_train, X_test, y_train, y_test, (-1, 1))"
   ]
  },
  {
   "cell_type": "code",
   "execution_count": 53,
   "metadata": {},
   "outputs": [],
   "source": [
    "lstm = build_lstm(1000)"
   ]
  },
  {
   "cell_type": "code",
   "execution_count": 19,
   "metadata": {
    "scrolled": true
   },
   "outputs": [
    {
     "name": "stdout",
     "output_type": "stream",
     "text": [
      "Train on 115 samples, validate on 28 samples\n",
      "Epoch 1/2000\n",
      "115/115 [==============================] - 1s 11ms/step - loss: 0.2245 - val_loss: 0.0803\n",
      "Epoch 2/2000\n",
      "115/115 [==============================] - 1s 10ms/step - loss: 0.2146 - val_loss: 0.0947\n",
      "Epoch 3/2000\n",
      "115/115 [==============================] - 1s 9ms/step - loss: 0.2254 - val_loss: 0.1040\n",
      "Epoch 4/2000\n",
      "115/115 [==============================] - 1s 8ms/step - loss: 0.2158 - val_loss: 0.1088\n",
      "Epoch 5/2000\n",
      "115/115 [==============================] - 1s 8ms/step - loss: 0.2085 - val_loss: 0.1053\n",
      "Epoch 6/2000\n",
      "115/115 [==============================] - 1s 8ms/step - loss: 0.2080 - val_loss: 0.1338\n",
      "Epoch 7/2000\n",
      "115/115 [==============================] - 1s 8ms/step - loss: 0.1978 - val_loss: 0.1265\n",
      "Epoch 8/2000\n",
      "115/115 [==============================] - 1s 9ms/step - loss: 0.1895 - val_loss: 0.1177\n",
      "Epoch 9/2000\n",
      "115/115 [==============================] - 1s 9ms/step - loss: 0.1935 - val_loss: 0.1109\n",
      "Epoch 10/2000\n",
      "115/115 [==============================] - 1s 9ms/step - loss: 0.1953 - val_loss: 0.1361\n",
      "Epoch 11/2000\n",
      "115/115 [==============================] - 1s 9ms/step - loss: 0.1989 - val_loss: 0.1378\n",
      "Restoring model weights from the end of the best epoch\n",
      "Epoch 00011: early stopping\n"
     ]
    }
   ],
   "source": [
    "lstm, history = fit_lstm(lstm, X_train, X_test, y_train, y_test, 1, 2000, verbose=1)"
   ]
  },
  {
   "cell_type": "code",
   "execution_count": 20,
   "metadata": {},
   "outputs": [
    {
     "data": {
      "text/plain": [
       "0.08031270571310804"
      ]
     },
     "execution_count": 20,
     "metadata": {},
     "output_type": "execute_result"
    }
   ],
   "source": [
    "np.array(history.history['val_loss']).min()"
   ]
  },
  {
   "cell_type": "code",
   "execution_count": 22,
   "metadata": {},
   "outputs": [
    {
     "name": "stdout",
     "output_type": "stream",
     "text": [
      "_________________________________________________________________\n",
      "Layer (type)                 Output Shape              Param #   \n",
      "=================================================================\n",
      "lstm_1 (LSTM)                (None, 40)                8800      \n",
      "_________________________________________________________________\n",
      "dense_1 (Dense)              (None, 20)                820       \n",
      "_________________________________________________________________\n",
      "dropout_1 (Dropout)          (None, 20)                0         \n",
      "_________________________________________________________________\n",
      "dense_2 (Dense)              (None, 1)                 21        \n",
      "=================================================================\n",
      "Total params: 9,641\n",
      "Trainable params: 9,641\n",
      "Non-trainable params: 0\n",
      "_________________________________________________________________\n"
     ]
    }
   ],
   "source": [
    "lstm.summary()"
   ]
  },
  {
   "cell_type": "code",
   "execution_count": 54,
   "metadata": {},
   "outputs": [],
   "source": [
    "done = []\n",
    "preds = {'store':[], 'department':[], 'date':[], 'preds':[], 'real':[]}\n",
    "future = {'store':[], 'department':[], 'date':[], 'preds':[]}"
   ]
  },
  {
   "cell_type": "code",
   "execution_count": 97,
   "metadata": {},
   "outputs": [],
   "source": [
    "preds = load('../models/lstm/LSTM_preds.joblib')\n",
    "future = load('../models/lstm/LSTM_future.joblib')"
   ]
  },
  {
   "cell_type": "code",
   "execution_count": 51,
   "metadata": {},
   "outputs": [],
   "source": [
    "done = (pd.DataFrame(preds)[['store', 'department']].drop_duplicates())\n",
    "done = [tuple(done.iloc[i]) for i in range(done.shape[0])]"
   ]
  },
  {
   "cell_type": "code",
   "execution_count": 55,
   "metadata": {
    "scrolled": true
   },
   "outputs": [
    {
     "name": "stdout",
     "output_type": "stream",
     "text": [
      "1 stores done. Time: 0:02:13.866180. Expected: 5 days, 3:49:34.379400.\n"
     ]
    }
   ],
   "source": [
    "ini_time = datetime.datetime.now()\n",
    "i = 0\n",
    "for store in df['Store'].unique():\n",
    "    mask_s = df['Store'] == store\n",
    "    mask_test = tdf['Store'] == store\n",
    "    for department in df[mask_s]['AllDept'].unique():\n",
    "        i+=1\n",
    "        if (store, department) in done:\n",
    "            continue\n",
    "        # Get dataset selection\n",
    "        mask = np.logical_and(mask_s, df['AllDept']==department)\n",
    "        indX = df[mask][var_list]\n",
    "        indy = df[mask]['Weekly_Sales']\n",
    "        \n",
    "        if indX.shape[0] < 52:\n",
    "            # Too few observations\n",
    "            continue\n",
    "        \n",
    "        X_train, X_test, y_train, y_test = train_test_split(indX, indy)\n",
    "        X_train, X_test, y_train, y_test, scalerX, scalery = scale(X_train, X_test, y_train, y_test, (-1, 1))\n",
    "        dates = df[mask]['Date'][-y_test.shape[0]:]\n",
    "        \n",
    "        # Train lstm\n",
    "        lstm, _ = fit_lstm(lstm, X_train, X_test, y_train, y_test, 1, 2000, weights=lstm.get_weights(), verbose=0)\n",
    "        \n",
    "        # Make predictions\n",
    "        pred_y = scalery.inverse_transform(lstm.predict(X_test.reshape(X_test.shape[0], 1, X_test.shape[1])))\n",
    "        y_test = scalery.inverse_transform(y_test)\n",
    "        for pred, ys, date in zip(pred_y, y_test, dates):\n",
    "            preds['store'].append(store)\n",
    "            preds['department'].append(department)\n",
    "            preds['date'].append(date)\n",
    "            preds['preds'].append(pred[0])\n",
    "            preds['real'].append(ys[0])\n",
    "            \n",
    "        # Future test data\n",
    "        mask = np.logical_and(mask_test, tdf['AllDept']==department)\n",
    "        if mask.sum() == 0:\n",
    "            continue\n",
    "            \n",
    "        future_X = scalerX.transform(tdf[mask][var_list])\n",
    "        future_y = scalery.inverse_transform(lstm.predict(future_X.reshape(future_X.shape[0], 1, future_X.shape[1])))\n",
    "        for fy, date in zip(future_y, dates):\n",
    "            future['store'].append(store)\n",
    "            future['department'].append(department)\n",
    "            future['date'].append(date)\n",
    "            future['preds'].append(fy[0])\n",
    "            \n",
    "        # Report progress\n",
    "        diff = datetime.datetime.now() - ini_time\n",
    "        print('{} stores done. Time: {}. Expected: {}.'.format(i, diff, diff*3330/i))\n",
    "        break\n",
    "    break\n",
    "    \n",
    "    # Save results\n",
    "    dump(preds, '../models/LSTM_preds.joblib')\n",
    "    dump(future, '../models/LSTM_future.joblib')"
   ]
  },
  {
   "cell_type": "code",
   "execution_count": 53,
   "metadata": {},
   "outputs": [
    {
     "data": {
      "text/plain": [
       "['../models/LSTM_preds.joblib']"
      ]
     },
     "execution_count": 53,
     "metadata": {},
     "output_type": "execute_result"
    }
   ],
   "source": [
    "dump(future, '../models/LSTM_future.joblib')\n",
    "dump(preds, '../models/LSTM_preds.joblib')"
   ]
  },
  {
   "cell_type": "code",
   "execution_count": 101,
   "metadata": {},
   "outputs": [
    {
     "data": {
      "text/html": [
       "<div>\n",
       "<style scoped>\n",
       "    .dataframe tbody tr th:only-of-type {\n",
       "        vertical-align: middle;\n",
       "    }\n",
       "\n",
       "    .dataframe tbody tr th {\n",
       "        vertical-align: top;\n",
       "    }\n",
       "\n",
       "    .dataframe thead th {\n",
       "        text-align: right;\n",
       "    }\n",
       "</style>\n",
       "<table border=\"1\" class=\"dataframe\">\n",
       "  <thead>\n",
       "    <tr style=\"text-align: right;\">\n",
       "      <th></th>\n",
       "      <th>store</th>\n",
       "      <th>department</th>\n",
       "      <th>date</th>\n",
       "      <th>preds</th>\n",
       "      <th>real</th>\n",
       "      <th>IsHoliday</th>\n",
       "      <th>Date</th>\n",
       "    </tr>\n",
       "  </thead>\n",
       "  <tbody>\n",
       "    <tr>\n",
       "      <th>0</th>\n",
       "      <td>1</td>\n",
       "      <td>1</td>\n",
       "      <td>2012-04-20</td>\n",
       "      <td>27094.335938</td>\n",
       "      <td>16976.19</td>\n",
       "      <td>False</td>\n",
       "      <td>2012-04-20</td>\n",
       "    </tr>\n",
       "    <tr>\n",
       "      <th>1</th>\n",
       "      <td>1</td>\n",
       "      <td>1</td>\n",
       "      <td>2012-04-27</td>\n",
       "      <td>26931.142578</td>\n",
       "      <td>16347.60</td>\n",
       "      <td>False</td>\n",
       "      <td>2012-04-27</td>\n",
       "    </tr>\n",
       "    <tr>\n",
       "      <th>2</th>\n",
       "      <td>1</td>\n",
       "      <td>1</td>\n",
       "      <td>2012-05-04</td>\n",
       "      <td>25047.322266</td>\n",
       "      <td>17147.44</td>\n",
       "      <td>False</td>\n",
       "      <td>2012-05-04</td>\n",
       "    </tr>\n",
       "    <tr>\n",
       "      <th>3</th>\n",
       "      <td>1</td>\n",
       "      <td>1</td>\n",
       "      <td>2012-05-11</td>\n",
       "      <td>25230.392578</td>\n",
       "      <td>18164.20</td>\n",
       "      <td>False</td>\n",
       "      <td>2012-05-11</td>\n",
       "    </tr>\n",
       "    <tr>\n",
       "      <th>4</th>\n",
       "      <td>1</td>\n",
       "      <td>1</td>\n",
       "      <td>2012-05-18</td>\n",
       "      <td>25913.714844</td>\n",
       "      <td>18517.79</td>\n",
       "      <td>False</td>\n",
       "      <td>2012-05-18</td>\n",
       "    </tr>\n",
       "  </tbody>\n",
       "</table>\n",
       "</div>"
      ],
      "text/plain": [
       "   store  department       date         preds      real  IsHoliday       Date\n",
       "0      1           1 2012-04-20  27094.335938  16976.19      False 2012-04-20\n",
       "1      1           1 2012-04-27  26931.142578  16347.60      False 2012-04-27\n",
       "2      1           1 2012-05-04  25047.322266  17147.44      False 2012-05-04\n",
       "3      1           1 2012-05-11  25230.392578  18164.20      False 2012-05-11\n",
       "4      1           1 2012-05-18  25913.714844  18517.79      False 2012-05-18"
      ]
     },
     "execution_count": 101,
     "metadata": {},
     "output_type": "execute_result"
    }
   ],
   "source": [
    "pred_df = pd.DataFrame(preds)\n",
    "pred_df['real'] = pred_df['real'].apply(lambda x: x[0])\n",
    "pred_df = pred_df.merge(df[['IsHoliday', 'Date']].drop_duplicates(), left_on='date', right_on='Date', how='left')\n",
    "pred_df.head()"
   ]
  },
  {
   "cell_type": "code",
   "execution_count": 102,
   "metadata": {},
   "outputs": [
    {
     "data": {
      "text/plain": [
       "-3046.2326904431866"
      ]
     },
     "execution_count": 102,
     "metadata": {},
     "output_type": "execute_result"
    }
   ],
   "source": [
    "wmae(pred_df['IsHoliday'], pred_df['real'], pred_df['preds'])"
   ]
  },
  {
   "cell_type": "code",
   "execution_count": 103,
   "metadata": {},
   "outputs": [
    {
     "data": {
      "text/plain": [
       "[]"
      ]
     },
     "execution_count": 103,
     "metadata": {},
     "output_type": "execute_result"
    },
    {
     "data": {
      "image/png": "[encoded data removed]",
      "text/plain": [
       "<Figure size 432x288 with 1 Axes>"
      ]
     },
     "metadata": {
      "needs_background": "light"
     },
     "output_type": "display_data"
    }
   ],
   "source": [
    "mask = np.logical_and(pred_df['store']==4, pred_df['department']==30)\n",
    "sns.lineplot(data=pred_df[mask], y='preds', x='date', label='preds')\n",
    "sns.lineplot(data=pred_df[mask], y='real', x='date', label='real')\n",
    "plt.legend()\n",
    "plt.plot()"
   ]
  },
  {
   "cell_type": "markdown",
   "metadata": {},
   "source": [
    "# Predict Test"
   ]
  },
  {
   "cell_type": "code",
   "execution_count": 31,
   "metadata": {},
   "outputs": [],
   "source": [
    "tdf.rename(columns={\"Weekly_Sales to be predicted\":\"Weekly_Sales\"}, inplace=True)\n",
    "tdates = tdf.Date\n",
    "tudates = np.unique(tdates)\n",
    "tudates.sort()"
   ]
  },
  {
   "cell_type": "code",
   "execution_count": 32,
   "metadata": {
    "scrolled": true
   },
   "outputs": [
    {
     "name": "stdout",
     "output_type": "stream",
     "text": [
      "1 out of 39\n",
      "2 out of 39\n",
      "3 out of 39\n",
      "4 out of 39\n",
      "5 out of 39\n",
      "6 out of 39\n",
      "7 out of 39\n",
      "8 out of 39\n",
      "9 out of 39\n",
      "10 out of 39\n",
      "11 out of 39\n",
      "12 out of 39\n",
      "13 out of 39\n",
      "14 out of 39\n",
      "15 out of 39\n",
      "16 out of 39\n",
      "17 out of 39\n",
      "18 out of 39\n",
      "19 out of 39\n",
      "20 out of 39\n",
      "21 out of 39\n",
      "22 out of 39\n",
      "23 out of 39\n",
      "24 out of 39\n",
      "25 out of 39\n",
      "26 out of 39\n",
      "27 out of 39\n",
      "28 out of 39\n",
      "29 out of 39\n",
      "30 out of 39\n",
      "31 out of 39\n",
      "32 out of 39\n",
      "33 out of 39\n",
      "34 out of 39\n",
      "35 out of 39\n",
      "36 out of 39\n",
      "37 out of 39\n",
      "38 out of 39\n",
      "39 out of 39\n"
     ]
    }
   ],
   "source": [
    "lasso = Lasso(alpha=lasso_alpha)\n",
    "temp = df\n",
    "\n",
    "for i, date in enumerate(tudates):\n",
    "    # Add new obs to df\n",
    "    extra_date = tdf['Date'] == date\n",
    "    temp = pd.concat([temp.drop('LastYearSales', axis=1), tdf[extra_date]], sort=False)\n",
    "    \n",
    "    # Add missing features (ARMA, seasonality and lastYearSales)\n",
    "    temp['week'] = temp['Date'].dt.week\n",
    "    temp = temp.drop('Seasonality', axis=1).merge(seasonality, on=['Store', 'AllDept', 'week'])\n",
    "    temp = add_last_year_sales(temp)\n",
    "    X, y, dates, drop_idx, X_predict = add_ARIMA_features(temp, 20, 0, 10, X_predict=True)\n",
    "    \n",
    "    # Fit Predict\n",
    "    mask = temp[temp['Weekly_Sales'].isnull()]['Date'] == date\n",
    "    lasso.fit(X[features], y)\n",
    "    preds = lasso.predict(X_predict[features][mask].fillna(X_predict['AR3'][mask]).fillna(0))\n",
    "        \n",
    "    # Add preds to temp\n",
    "    temp.loc[temp['Weekly_Sales'].isnull(), 'Weekly_Sales'] = preds \n",
    "    \n",
    "    print('{} out of {}'.format(i+1, len(tudates)))"
   ]
  },
  {
   "cell_type": "code",
   "execution_count": 37,
   "metadata": {},
   "outputs": [],
   "source": [
    "mask = temp['Date']>='2012-11-02'\n",
    "predicted_test = temp[mask][['Store', 'AllDept', 'Date', 'Weekly_Sales']]\n",
    "predicted_test.to_csv('../data/lasso_predicted_sales.csv', index=False)\n",
    "\n",
    "store = predicted_test['Store'].astype(int).astype(str)\n",
    "dept = predicted_test['AllDept'].astype(int).astype(str)\n",
    "predicted_test['Id'] = store+'_'+dept+'_'+predicted_test['Date'].astype(str)\n",
    "predicted_test[['Id', 'Weekly_Sales']].to_csv('../data/lasso_submission.csv', index=False)"
   ]
  },
  {
   "cell_type": "markdown",
   "metadata": {},
   "source": [
    "# Plot"
   ]
  },
  {
   "cell_type": "code",
   "execution_count": 45,
   "metadata": {},
   "outputs": [
    {
     "data": {
      "text/plain": [
       "(113632, 5)"
      ]
     },
     "execution_count": 45,
     "metadata": {},
     "output_type": "execute_result"
    }
   ],
   "source": [
    "predicted_test.shape"
   ]
  },
  {
   "cell_type": "code",
   "execution_count": 94,
   "metadata": {},
   "outputs": [
    {
     "data": {
      "image/png": "[encoded data removed]",
      "text/plain": [
       "<Figure size 1080x216 with 1 Axes>"
      ]
     },
     "metadata": {
      "needs_background": "light"
     },
     "output_type": "display_data"
    }
   ],
   "source": [
    "predictions = pd.read_csv('../data/lasso_predicted_sales.csv')\n",
    "predictions.Date = pd.to_datetime(predictions.Date)\n",
    "s = 1\n",
    "d = 5\n",
    "pmask = np.logical_and(predictions['Store'] == s, predictions['AllDept']==d)\n",
    "\n",
    "mmask = np.logical_and(df['Store'] == s, df['AllDept']==d)\n",
    "\n",
    "plt.figure(figsize=(15,3))\n",
    "sns.lineplot(data=df[mmask], x='Date', y='Weekly_Sales', label='Data')\n",
    "sns.lineplot(data=predictions[pmask], x='Date', y='Weekly_Sales', label='Predicted')\n",
    "plt.legend()\n",
    "plt.xlabel('Date')\n",
    "plt.ylabel('Sales')\n",
    "plt.savefig('../graphs/testPreds.png')\n",
    "plt.show()"
   ]
  }
 ],
 "metadata": {
  "kernelspec": {
   "display_name": "Python 3",
   "language": "python",
   "name": "python3"
  },
  "language_info": {
   "codemirror_mode": {
    "name": "ipython",
    "version": 3
   },
   "file_extension": ".py",
   "mimetype": "text/x-python",
   "name": "python",
   "nbconvert_exporter": "python",
   "pygments_lexer": "ipython3",
   "version": "3.6.7"
  }
 },
 "nbformat": 4,
 "nbformat_minor": 2
}
