{
 "cells": [
  {
   "cell_type": "markdown",
   "metadata": {},
   "source": [
    "March 27, 2019.\n",
    "Luis Da Silva.\n",
    "\n",
    "This notebook implements Facebook's package Prophet (https://facebook.github.io/prophet/) to Walmart data."
   ]
  },
  {
   "cell_type": "code",
   "execution_count": null,
   "metadata": {},
   "outputs": [],
   "source": [
    "import pandas as pd\n",
    "import numpy as np\n",
    "import matplotlib.pyplot as plt\n",
    "import seaborn as sns\n",
    "from fbprophet import Prophet"
   ]
  },
  {
   "cell_type": "code",
   "execution_count": null,
   "metadata": {},
   "outputs": [],
   "source": [
    "def wmae(holiday, y, y_pred):\n",
    "    \"\"\"Computes weighted mean absolute error\"\"\"\n",
    "    w = holiday*4 + 1\n",
    "    return -1 * (1 / w.sum()) * (w @ abs(y-y_pred))"
   ]
  },
  {
   "cell_type": "code",
   "execution_count": null,
   "metadata": {},
   "outputs": [],
   "source": [
    "def read_clean_df(train=True):\n",
    "    if train:\n",
    "        path = '../data/merged_train_data.csv'\n",
    "    else:\n",
    "        path = '../data/merged_test_data.csv'\n",
    "        \n",
    "    df = pd.read_csv(path).iloc[:,1:]\n",
    "    df.rename(index=str, columns={'Size (sq ft)':'Size'}, inplace=True)\n",
    "    df.drop(['Date-1', 'Date-2', 'Promotion17', 'Promotion114',\n",
    "             'Promotion121', 'Year', 'HighPromoter1', 'LowPromoter1',\n",
    "             'HighPromoter2', 'LowPromoter2', 'HighPromoter3',\n",
    "             'LowPromoter3', 'HighPromoter4', 'LowPromoter4',\n",
    "             'HighPromoter5', 'LowPromoter5',], axis=1, inplace=True)\n",
    "    if train:\n",
    "        df.drop(['ImportantHoliday'], axis=1, inplace=True)\n",
    "        df.loc[df['Weekly_Sales'] < 0, 'Weekly_Sales'] = 0\n",
    "    \n",
    "    df['Date'] = pd.to_datetime(df['Date'])\n",
    "    df['IsHoliday_weight'] = df['IsHoliday']\n",
    "    df['AllDept'] = df['Dept']\n",
    "    df = pd.get_dummies(df, columns=['Type', 'Dept'])\n",
    "    df.sort_values(['Date', 'Store', 'AllDept'], inplace=True)\n",
    "    \n",
    "    if train:\n",
    "        # Very low weekly sales will be replaced by 0s\n",
    "        threshold = df.groupby(['Store', 'AllDept'])['Weekly_Sales'].mean()/50\n",
    "        for idx, v in zip(threshold.index, threshold):\n",
    "            mask = np.logical_and(df['Store']==idx[0], df['AllDept']==idx[1])\n",
    "            mask = np.logical_and(mask, df['Weekly_Sales']<=v)\n",
    "            df.loc[mask, 'Weekly_Sales'] = 0\n",
    "    return df"
   ]
  },
  {
   "cell_type": "code",
   "execution_count": null,
   "metadata": {},
   "outputs": [],
   "source": [
    "def get_cut_date(dates, n):\n",
    "    udates = np.unique(dates)\n",
    "    udates.sort()\n",
    "    ndates = udates.shape[0]\n",
    "    cut_date = udates[-int(ndates/n)]\n",
    "    return cut_date"
   ]
  },
  {
   "cell_type": "code",
   "execution_count": null,
   "metadata": {},
   "outputs": [],
   "source": [
    "df = read_clean_df()\n",
    "df.head()"
   ]
  },
  {
   "cell_type": "code",
   "execution_count": null,
   "metadata": {},
   "outputs": [],
   "source": [
    "tdf = read_clean_df(False)"
   ]
  },
  {
   "cell_type": "code",
   "execution_count": null,
   "metadata": {},
   "outputs": [],
   "source": [
    "class Model:\n",
    "    '''\n",
    "        Main class to build Prophet model with all the required information.\n",
    "        As Prophet is a Time Series framework, and panel data is being handled,\n",
    "        one needs to model one department at a time.\n",
    "    '''\n",
    "    def __init__(self, df, store, dept):\n",
    "        # Creating masks\n",
    "        train_mask = np.logical_and(df['Store']==store, df['AllDept']==dept)\n",
    "        test_mask = np.logical_and(tdf['Store']==store, tdf['AllDept']==dept)\n",
    "\n",
    "        # Cutdate for validation\n",
    "        cut_date = get_cut_date(df[train_mask]['Date'], 5)\n",
    "        self.validation_mask = np.logical_and(train_mask, df['Date']>=cut_date)\n",
    "        train_mask =  np.logical_and(train_mask, df['Date']<cut_date)\n",
    "\n",
    "        # Main dataframe\n",
    "        self.tsdf = df[train_mask][['Date', 'Weekly_Sales']]\n",
    "        self.tsdf.columns = ['ds', 'y']\n",
    "\n",
    "        # Holidays\n",
    "        superbowl = pd.DataFrame({\n",
    "          'holiday': 'superbowl',\n",
    "          'ds': pd.to_datetime(['2010-02-12', '2011-02-11', '2012-02-10', '2013-02-08']),\n",
    "          'lower_window': 0,\n",
    "          'upper_window': 1,\n",
    "        })\n",
    "        labor = pd.DataFrame({\n",
    "          'holiday': 'labor',\n",
    "          'ds': pd.to_datetime(['2010-09-10', '2011-09-09', '2012-09-07', '2013-11-29']),\n",
    "          'lower_window': 0,\n",
    "          'upper_window': 0,\n",
    "        })\n",
    "        thanks = pd.DataFrame({\n",
    "          'holiday': 'thanks',\n",
    "          'ds': pd.to_datetime(['2010-11-26', '2011-11-25', '2012-11-23', '2013-11-29']),\n",
    "          'lower_window': -1,\n",
    "          'upper_window': 0,\n",
    "        })\n",
    "        christmas = pd.DataFrame({\n",
    "          'holiday': 'christmas',\n",
    "          'ds': pd.to_datetime(['2010-12-31', '2011-12-30', '2012-12-28', '2013-11-27']),\n",
    "          'lower_window': -1,\n",
    "          'upper_window': 0,\n",
    "        })\n",
    "        self.holidays = pd.concat((superbowl, labor, thanks, christmas))\n",
    "\n",
    "        # Future dates to be predicted\n",
    "        self.future_df = tdf[['Date']].drop_duplicates()\n",
    "        self.future_df.columns = ['ds']\n",
    "        \n",
    "    def fit(self, **kwargs):\n",
    "        self.prophet = Prophet(holidays=self.holidays, **kwargs)\n",
    "        self.prophet.fit(self.tsdf)\n",
    "        self.past_fut = pd.concat((self.tsdf[['ds']],self.future_df))\n",
    "        self.forecast = self.prophet.predict(self.past_fut)\n",
    "        \n",
    "    def plot(self):\n",
    "        self.prophet.plot_components(self.forecast)\n",
    "        \n",
    "    def validate(self):\n",
    "        holi = df[self.validation_mask]['IsHoliday'].reset_index(drop=True)\n",
    "        val_dates = df[self.validation_mask][['Date']]\n",
    "        val_dates.columns = ['ds']\n",
    "        y = df[self.validation_mask]['Weekly_Sales'].reset_index(drop=True)\n",
    "        y_pred = self.prophet.predict(val_dates)['yhat']\n",
    "\n",
    "        self.score = wmae(holi, y, y_pred)\n",
    "        print(self.score)"
   ]
  },
  {
   "cell_type": "code",
   "execution_count": null,
   "metadata": {},
   "outputs": [],
   "source": [
    "# Test a department in a store to see if the class behaves accordingly\n",
    "s1d1 = Model(df, 1, 1)\n",
    "s1d1.fit(weekly_seasonality=True, daily_seasonality=False)\n",
    "s1d1.plot()\n",
    "s1d1.validate()"
   ]
  },
  {
   "cell_type": "code",
   "execution_count": null,
   "metadata": {
    "scrolled": true
   },
   "outputs": [],
   "source": [
    "%%time\n",
    "# Fit all the departments and stores\n",
    "scores = []\n",
    "preds = []\n",
    "for store in df['Store'].unique():\n",
    "    mask = df['Store']==store\n",
    "    for dept in df[df['Store']==store]['AllDept'].unique():\n",
    "        model = Model(df, store, dept)\n",
    "        if model.tsdf.shape[0] == 0:\n",
    "            continue\n",
    "        model.fit()\n",
    "        model.validate()\n",
    "        \n",
    "        scores.append(model.score)\n",
    "        preds.append(model.forecast)"
   ]
  },
  {
   "cell_type": "code",
   "execution_count": null,
   "metadata": {},
   "outputs": [],
   "source": [
    "print('Percentiles: ', {i:np.percentile(scores, i) for i in (5, 10, 25, 50)})\n",
    "print('Mean: ', np.mean(scores))\n",
    "print('Number of scores: ', len(scores))"
   ]
  }
 ],
 "metadata": {
  "kernelspec": {
   "display_name": "Python 3",
   "language": "python",
   "name": "python3"
  },
  "language_info": {
   "codemirror_mode": {
    "name": "ipython",
    "version": 3
   },
   "file_extension": ".py",
   "mimetype": "text/x-python",
   "name": "python",
   "nbconvert_exporter": "python",
   "pygments_lexer": "ipython3",
   "version": "3.6.7"
  }
 },
 "nbformat": 4,
 "nbformat_minor": 2
}
