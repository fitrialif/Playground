{
 "cells": [
  {
   "cell_type": "markdown",
   "metadata": {},
   "source": [
    "# Fine Food Recommender System\n",
    "Dataset: Amazon Fine Foods Reviews.\n",
    "\n",
    "Source: https://www.kaggle.com/snap/amazon-fine-food-reviews\n",
    "\n",
    "Author: Luis Da Silva.\n",
    "\n",
    "Description: \"This dataset consists of reviews of fine foods from amazon. The data span a period of more than 10 years, including all ~500,000 reviews up to October 2012. Reviews include product and user information, ratings, and a plain text review. It also includes reviews from all other Amazon categories.\"\n",
    "\n",
    "Recommendation systems can be built in a variety of ways. If one knows nothing about the given user then one could simply recommend the most popular or hot items, this is a quite straightforward approach but will often fail to be accurate. A better approach -but requires some data about the user/audience- is to employ either collaborative filtering, which recommends content similar to the one the user has shown interest in, or content-based filtering, which shows content that some other users that seem to have alike preferences rated with high score.\n",
    "\n",
    "In this exercise, I'm implementing a mixture of those two methods by training a Random Forest Regressor to predict the score a user will give to a product s/he hasn't consumed yet. This method is chosen because it is simple enough to be implemented quickly, but complex enough to take advantage of most of the information in the dataset (including text) to produce accurate results."
   ]
  },
  {
   "cell_type": "code",
   "execution_count": 118,
   "metadata": {},
   "outputs": [],
   "source": [
    "import pandas as pd\n",
    "import numpy as np\n",
    "import matplotlib.pyplot as plt\n",
    "import seaborn as sns\n",
    "import random\n",
    "import re\n",
    "from collections import Counter\n",
    "from itertools import product\n",
    "from joblib import dump, load\n",
    "\n",
    "from scipy.sparse import coo_matrix\n",
    "\n",
    "from sklearn.model_selection import StratifiedShuffleSplit\n",
    "from sklearn.feature_extraction.text import TfidfTransformer, CountVectorizer\n",
    "from sklearn.ensemble import RandomForestRegressor\n",
    "from sklearn.metrics import confusion_matrix, f1_score, mean_squared_error\n",
    "\n",
    "import nltk\n",
    "from nltk.corpus import stopwords\n",
    "from nltk.stem.porter import PorterStemmer\n",
    "from nltk.tokenize import RegexpTokenizer\n",
    "from nltk.stem.wordnet import WordNetLemmatizer"
   ]
  },
  {
   "cell_type": "code",
   "execution_count": 2,
   "metadata": {},
   "outputs": [],
   "source": [
    "def describe(df, var, name):\n",
    "    n = df[var].nunique()\n",
    "    m = df[var].value_counts()\n",
    "    s = df.groupby(var)['Score'].mean()\n",
    "    print('Number of {}: {}'.format(name, n))\n",
    "    print('Reviews')\n",
    "    print('Mean: {:.2f}, std: {:.2f}, max: {}, median: {:.2f}, min: {}'.\\\n",
    "          format(m.mean(), m.std(), m.max(), m.median(), m.min()))\n",
    "    print('Score')\n",
    "    print('Mean: {:.2f}, std: {:.2f}, max: {}, median: {:.2f}, min: {}'.\\\n",
    "          format(s.mean(), s.std(), s.max(), s.median(), s.min()))"
   ]
  },
  {
   "cell_type": "code",
   "execution_count": 3,
   "metadata": {},
   "outputs": [
    {
     "name": "stdout",
     "output_type": "stream",
     "text": [
      "(568454, 10)\n"
     ]
    },
    {
     "data": {
      "text/html": [
       "<div>\n",
       "<style scoped>\n",
       "    .dataframe tbody tr th:only-of-type {\n",
       "        vertical-align: middle;\n",
       "    }\n",
       "\n",
       "    .dataframe tbody tr th {\n",
       "        vertical-align: top;\n",
       "    }\n",
       "\n",
       "    .dataframe thead th {\n",
       "        text-align: right;\n",
       "    }\n",
       "</style>\n",
       "<table border=\"1\" class=\"dataframe\">\n",
       "  <thead>\n",
       "    <tr style=\"text-align: right;\">\n",
       "      <th></th>\n",
       "      <th>Id</th>\n",
       "      <th>ProductId</th>\n",
       "      <th>UserId</th>\n",
       "      <th>ProfileName</th>\n",
       "      <th>HelpfulnessNumerator</th>\n",
       "      <th>HelpfulnessDenominator</th>\n",
       "      <th>Score</th>\n",
       "      <th>Time</th>\n",
       "      <th>Summary</th>\n",
       "      <th>Text</th>\n",
       "    </tr>\n",
       "  </thead>\n",
       "  <tbody>\n",
       "    <tr>\n",
       "      <th>0</th>\n",
       "      <td>1</td>\n",
       "      <td>B001E4KFG0</td>\n",
       "      <td>A3SGXH7AUHU8GW</td>\n",
       "      <td>delmartian</td>\n",
       "      <td>1</td>\n",
       "      <td>1</td>\n",
       "      <td>5</td>\n",
       "      <td>1303862400</td>\n",
       "      <td>Good Quality Dog Food</td>\n",
       "      <td>I have bought several of the Vitality canned d...</td>\n",
       "    </tr>\n",
       "    <tr>\n",
       "      <th>1</th>\n",
       "      <td>2</td>\n",
       "      <td>B00813GRG4</td>\n",
       "      <td>A1D87F6ZCVE5NK</td>\n",
       "      <td>dll pa</td>\n",
       "      <td>0</td>\n",
       "      <td>0</td>\n",
       "      <td>1</td>\n",
       "      <td>1346976000</td>\n",
       "      <td>Not as Advertised</td>\n",
       "      <td>Product arrived labeled as Jumbo Salted Peanut...</td>\n",
       "    </tr>\n",
       "    <tr>\n",
       "      <th>2</th>\n",
       "      <td>3</td>\n",
       "      <td>B000LQOCH0</td>\n",
       "      <td>ABXLMWJIXXAIN</td>\n",
       "      <td>Natalia Corres \"Natalia Corres\"</td>\n",
       "      <td>1</td>\n",
       "      <td>1</td>\n",
       "      <td>4</td>\n",
       "      <td>1219017600</td>\n",
       "      <td>\"Delight\" says it all</td>\n",
       "      <td>This is a confection that has been around a fe...</td>\n",
       "    </tr>\n",
       "    <tr>\n",
       "      <th>3</th>\n",
       "      <td>4</td>\n",
       "      <td>B000UA0QIQ</td>\n",
       "      <td>A395BORC6FGVXV</td>\n",
       "      <td>Karl</td>\n",
       "      <td>3</td>\n",
       "      <td>3</td>\n",
       "      <td>2</td>\n",
       "      <td>1307923200</td>\n",
       "      <td>Cough Medicine</td>\n",
       "      <td>If you are looking for the secret ingredient i...</td>\n",
       "    </tr>\n",
       "    <tr>\n",
       "      <th>4</th>\n",
       "      <td>5</td>\n",
       "      <td>B006K2ZZ7K</td>\n",
       "      <td>A1UQRSCLF8GW1T</td>\n",
       "      <td>Michael D. Bigham \"M. Wassir\"</td>\n",
       "      <td>0</td>\n",
       "      <td>0</td>\n",
       "      <td>5</td>\n",
       "      <td>1350777600</td>\n",
       "      <td>Great taffy</td>\n",
       "      <td>Great taffy at a great price.  There was a wid...</td>\n",
       "    </tr>\n",
       "  </tbody>\n",
       "</table>\n",
       "</div>"
      ],
      "text/plain": [
       "   Id   ProductId          UserId                      ProfileName  \\\n",
       "0   1  B001E4KFG0  A3SGXH7AUHU8GW                       delmartian   \n",
       "1   2  B00813GRG4  A1D87F6ZCVE5NK                           dll pa   \n",
       "2   3  B000LQOCH0   ABXLMWJIXXAIN  Natalia Corres \"Natalia Corres\"   \n",
       "3   4  B000UA0QIQ  A395BORC6FGVXV                             Karl   \n",
       "4   5  B006K2ZZ7K  A1UQRSCLF8GW1T    Michael D. Bigham \"M. Wassir\"   \n",
       "\n",
       "   HelpfulnessNumerator  HelpfulnessDenominator  Score        Time  \\\n",
       "0                     1                       1      5  1303862400   \n",
       "1                     0                       0      1  1346976000   \n",
       "2                     1                       1      4  1219017600   \n",
       "3                     3                       3      2  1307923200   \n",
       "4                     0                       0      5  1350777600   \n",
       "\n",
       "                 Summary                                               Text  \n",
       "0  Good Quality Dog Food  I have bought several of the Vitality canned d...  \n",
       "1      Not as Advertised  Product arrived labeled as Jumbo Salted Peanut...  \n",
       "2  \"Delight\" says it all  This is a confection that has been around a fe...  \n",
       "3         Cough Medicine  If you are looking for the secret ingredient i...  \n",
       "4            Great taffy  Great taffy at a great price.  There was a wid...  "
      ]
     },
     "execution_count": 3,
     "metadata": {},
     "output_type": "execute_result"
    }
   ],
   "source": [
    "df = pd.read_csv('Reviews.csv')\n",
    "print(df.shape)\n",
    "df.head()"
   ]
  },
  {
   "cell_type": "code",
   "execution_count": 4,
   "metadata": {},
   "outputs": [],
   "source": [
    "# Time is not in proper format\n",
    "df.Time = pd.to_datetime(df.Time, unit='s')\n",
    "df['Year'] = df.Time.dt.year\n",
    "\n",
    "# Id is useless\n",
    "df.drop('Id', axis=1, inplace=True)\n",
    "\n",
    "# Factorize product and user ids to save memory\n",
    "df.UserId = df.UserId.factorize()[0]\n",
    "df.ProductId = df.ProductId.factorize()[0]"
   ]
  },
  {
   "cell_type": "code",
   "execution_count": 5,
   "metadata": {},
   "outputs": [
    {
     "data": {
      "text/plain": [
       "ProductId                  0\n",
       "UserId                     0\n",
       "ProfileName               16\n",
       "HelpfulnessNumerator       0\n",
       "HelpfulnessDenominator     0\n",
       "Score                      0\n",
       "Time                       0\n",
       "Summary                   27\n",
       "Text                       0\n",
       "Year                       0\n",
       "dtype: int64"
      ]
     },
     "execution_count": 5,
     "metadata": {},
     "output_type": "execute_result"
    }
   ],
   "source": [
    "# Missing data\n",
    "df.isnull().sum()"
   ]
  },
  {
   "cell_type": "code",
   "execution_count": 6,
   "metadata": {},
   "outputs": [
    {
     "data": {
      "text/plain": [
       "(95552, 10)"
      ]
     },
     "execution_count": 6,
     "metadata": {},
     "output_type": "execute_result"
    }
   ],
   "source": [
    "# I'm dropping products and users with 10 reviews or less\n",
    "# I want to avoid memory errors\n",
    "# And their utility may be marginal\n",
    "df = df[df.groupby('ProductId')['ProductId'].transform('count') > 10]\n",
    "df = df[df.groupby('UserId')['UserId'].transform('count') > 10]\n",
    "df.shape"
   ]
  },
  {
   "cell_type": "code",
   "execution_count": 7,
   "metadata": {},
   "outputs": [
    {
     "data": {
      "text/plain": [
       "6161"
      ]
     },
     "execution_count": 7,
     "metadata": {},
     "output_type": "execute_result"
    }
   ],
   "source": [
    "# Have users rated the same product twice or more?\n",
    "df[['ProductId', 'UserId']].duplicated().sum()"
   ]
  },
  {
   "cell_type": "code",
   "execution_count": 8,
   "metadata": {},
   "outputs": [
    {
     "name": "stdout",
     "output_type": "stream",
     "text": [
      "Number of users: 5049\n",
      "Reviews\n",
      "Mean: 18.92, std: 13.65, max: 291, median: 14.00, min: 11\n",
      "Score\n",
      "Mean: 4.15, std: 0.98, max: 5.0, median: 4.40, min: 1.0\n",
      "*--*--*--*--*--*--*--*--*--*--*--*--*--*--*--*--*--*--*--*--\n",
      "Number of products: 7883\n",
      "Reviews\n",
      "Mean: 12.12, std: 31.71, max: 369, median: 3.00, min: 1\n",
      "Score\n",
      "Mean: 4.26, std: 0.84, max: 5.0, median: 4.50, min: 1.0\n"
     ]
    }
   ],
   "source": [
    "describe(df, 'UserId', 'users')\n",
    "print('*--'*20)\n",
    "describe(df, 'ProductId', 'products')"
   ]
  },
  {
   "cell_type": "code",
   "execution_count": 9,
   "metadata": {},
   "outputs": [],
   "source": [
    "# I'm planning on getting features from both summary and text\n",
    "df['Full_txt'] = df['Summary'].fillna('') + ' ' + df['Text']"
   ]
  },
  {
   "cell_type": "markdown",
   "metadata": {},
   "source": [
    "# Split data into train, test and validation\n",
    "The aim is to train the model into the train dataset, tune hyper parameter with the test dataset and then perform final validation with the validation dataset. This gives a more accurate perception of the real error because the model never gets to see the answers (scores) for the validation set."
   ]
  },
  {
   "cell_type": "code",
   "execution_count": 10,
   "metadata": {},
   "outputs": [
    {
     "name": "stdout",
     "output_type": "stream",
     "text": [
      "(76441, 11) (19111, 11)\n"
     ]
    }
   ],
   "source": [
    "# Split train and validation\n",
    "sss = StratifiedShuffleSplit(n_splits=2, test_size=0.2, random_state = 412)\n",
    "for train_idx, test_idx in sss.split(df, df.Score, df.ProductId):\n",
    "    train = df.iloc[train_idx]\n",
    "    validation = df.iloc[test_idx]\n",
    "    break\n",
    "print(train.shape, validation.shape)"
   ]
  },
  {
   "cell_type": "code",
   "execution_count": 11,
   "metadata": {},
   "outputs": [
    {
     "name": "stdout",
     "output_type": "stream",
     "text": [
      "(61152, 11) (15289, 11)\n"
     ]
    }
   ],
   "source": [
    "# Now split train in train and test\n",
    "sss = StratifiedShuffleSplit(n_splits=2, test_size=0.2, random_state = 412)\n",
    "for train_idx, test_idx in sss.split(train, train.Score, train.ProductId):\n",
    "    test = train.iloc[test_idx]\n",
    "    train = train.iloc[train_idx]\n",
    "    break\n",
    "print(train.shape, test.shape)"
   ]
  },
  {
   "cell_type": "code",
   "execution_count": 12,
   "metadata": {},
   "outputs": [
    {
     "name": "stdout",
     "output_type": "stream",
     "text": [
      "Number of users: 5049\n",
      "Reviews\n",
      "Mean: 12.11, std: 8.97, max: 198, median: 10.00, min: 2\n",
      "Score\n",
      "Mean: 4.14, std: 0.99, max: 5.0, median: 4.40, min: 1.0\n",
      "*--*--*--*--*--*--*--*--*--*--*--*--*--*--*--*--*--*--*--*--\n",
      "Number of products: 6891\n",
      "Reviews\n",
      "Mean: 8.87, std: 21.60, max: 236, median: 2.00, min: 1\n",
      "Score\n",
      "Mean: 4.25, std: 0.89, max: 5.0, median: 4.50, min: 1.0\n",
      "*--*--*--*--*--*--*--*--*--*--*--*--*--*--*--*--*--*--*--*--\n",
      "Number of users: 4842\n",
      "Reviews\n",
      "Mean: 3.95, std: 3.22, max: 63, median: 3.00, min: 1\n",
      "Score\n",
      "Mean: 4.15, std: 1.07, max: 5.0, median: 4.50, min: 1.0\n",
      "*--*--*--*--*--*--*--*--*--*--*--*--*--*--*--*--*--*--*--*--\n",
      "Number of products: 4282\n",
      "Reviews\n",
      "Mean: 4.46, std: 8.19, max: 76, median: 1.00, min: 1\n",
      "Score\n",
      "Mean: 4.26, std: 0.97, max: 5.0, median: 4.60, min: 1.0\n"
     ]
    }
   ],
   "source": [
    "describe(train, 'UserId', 'users')\n",
    "print('*--'*20)\n",
    "describe(train, 'ProductId', 'products')\n",
    "print('*--'*20)\n",
    "describe(validation, 'UserId', 'users')\n",
    "print('*--'*20)\n",
    "describe(validation, 'ProductId', 'products')"
   ]
  },
  {
   "cell_type": "markdown",
   "metadata": {},
   "source": [
    "# Text keywords extraction\n",
    "As data has been semi-anonimized, the best description of the product exists in the reviews. By extracting keywords from then, one could obtain useful groups of products. This assumes that, when reviewing, people tend to use certain word when talking about a specific type of product.\n",
    "\n",
    "A very raw version of keyword extraction is being performed here, with no especial tuning being made. Also, no attempt to get a feeling of the whole text instead of just the keywords is being made."
   ]
  },
  {
   "cell_type": "code",
   "execution_count": 13,
   "metadata": {},
   "outputs": [],
   "source": [
    "# I noticed some words I'd like to remove\n",
    "words = ['br', 'john', 'pb', 'pg', 'ck', 'amazon', 'wayyyy', 'come', 'bye']\n",
    "stop_words = set(stopwords.words(\"english\"))\n",
    "stop_words = stop_words.union(words)"
   ]
  },
  {
   "cell_type": "code",
   "execution_count": 14,
   "metadata": {},
   "outputs": [],
   "source": [
    "def regularize_text(x, stop_words=stop_words):\n",
    "    # standardize text\n",
    "    x = re.sub('[^a-zA-Z]', ' ', x)\n",
    "    x = x.lower()\n",
    "    \n",
    "    x=re.sub(\"&lt;/?.*?&gt;\",\" &lt;&gt; \",x)\n",
    "    x=re.sub(\"(\\\\d|\\\\W)+\",\" \",x)\n",
    "    \n",
    "    x = x.split(' ')\n",
    "    ps=PorterStemmer()\n",
    "    lem = WordNetLemmatizer()\n",
    "    x = [lem.lemmatize(word) for word in x if not word in stop_words]\n",
    "    return ' '.join(x)"
   ]
  },
  {
   "cell_type": "code",
   "execution_count": 15,
   "metadata": {},
   "outputs": [],
   "source": [
    "# I only use train dataset in this phase to avoid data leakage\n",
    "train['Full_txt'] = train['Full_txt'].apply(regularize_text)"
   ]
  },
  {
   "cell_type": "code",
   "execution_count": 16,
   "metadata": {},
   "outputs": [],
   "source": [
    "# Vectorize words\n",
    "countV=CountVectorizer(max_df=0.8,stop_words=stop_words, max_features=10000, ngram_range=(1,1))\n",
    "X=countV.fit_transform(train['Full_txt'])\n",
    "\n",
    "# Calculate TFIDF\n",
    "tfidf = TfidfTransformer()\n",
    "tfidf.fit(X)\n",
    "feature_names=countV.get_feature_names()"
   ]
  },
  {
   "cell_type": "code",
   "execution_count": 17,
   "metadata": {},
   "outputs": [],
   "source": [
    "# Functions to extract most important keywords\n",
    "def sort_matrix(m):\n",
    "    tuples = zip(m.col, m.data)\n",
    "    return sorted(tuples, key=lambda x: (x[1], x[0]), reverse=True)\n",
    " \n",
    "def extract_n(names, items, n=10):\n",
    "    sorted_items = items[:n+1]\n",
    " \n",
    "    scores = []\n",
    "    features = []\n",
    "    \n",
    "    # word index and corresponding tf-idf score\n",
    "    for idx, s in sorted_items:\n",
    "        scores.append(round(s, 3))\n",
    "        features.append(names[idx])\n",
    "\n",
    "    return dict(zip(features, scores)) \n",
    "\n",
    "def keywords_from_doc(doc, tfidf, n=5):\n",
    "    tfidf_vector=tfidf.transform(countV.transform(doc))\n",
    "    sorted_items=sort_matrix(tfidf_vector.tocoo())\n",
    "    return extract_n(feature_names,sorted_items,n)"
   ]
  },
  {
   "cell_type": "code",
   "execution_count": 18,
   "metadata": {},
   "outputs": [],
   "source": [
    "# Get dict with the keywords of each product\n",
    "keywords_per_product = {}\n",
    "ids = train['ProductId'].unique()\n",
    "for i in ids:\n",
    "    mask = train['ProductId'] == i\n",
    "    doc = train[mask]['Full_txt'].values\n",
    "    keywords = keywords_from_doc(doc, tfidf, 5)\n",
    "    keywords_per_product[i] = list(keywords.keys())"
   ]
  },
  {
   "cell_type": "code",
   "execution_count": 19,
   "metadata": {},
   "outputs": [],
   "source": [
    "# get the frequency of keywords and only keep the most frequent 5%\n",
    "count = Counter()\n",
    "for v in keywords_per_product.values():\n",
    "    count.update(v)\n",
    "    \n",
    "perc = np.percentile(list(count.values()), 95)\n",
    "keywords = [k for k,v in count.items() if v>=perc]"
   ]
  },
  {
   "cell_type": "code",
   "execution_count": 20,
   "metadata": {},
   "outputs": [
    {
     "data": {
      "text/html": [
       "<div>\n",
       "<style scoped>\n",
       "    .dataframe tbody tr th:only-of-type {\n",
       "        vertical-align: middle;\n",
       "    }\n",
       "\n",
       "    .dataframe tbody tr th {\n",
       "        vertical-align: top;\n",
       "    }\n",
       "\n",
       "    .dataframe thead th {\n",
       "        text-align: right;\n",
       "    }\n",
       "</style>\n",
       "<table border=\"1\" class=\"dataframe\">\n",
       "  <thead>\n",
       "    <tr style=\"text-align: right;\">\n",
       "      <th></th>\n",
       "      <th>bergamot</th>\n",
       "      <th>chai</th>\n",
       "      <th>earl</th>\n",
       "      <th>grey</th>\n",
       "      <th>food</th>\n",
       "      <th>cat</th>\n",
       "      <th>dog</th>\n",
       "      <th>organic</th>\n",
       "      <th>yorkie</th>\n",
       "      <th>chamomile</th>\n",
       "      <th>...</th>\n",
       "      <th>heat</th>\n",
       "      <th>formula</th>\n",
       "      <th>loved</th>\n",
       "      <th>pancake</th>\n",
       "      <th>toddler</th>\n",
       "      <th>really</th>\n",
       "      <th>recommended</th>\n",
       "      <th>sardine</th>\n",
       "      <th>allergy</th>\n",
       "      <th>kernel</th>\n",
       "    </tr>\n",
       "  </thead>\n",
       "  <tbody>\n",
       "    <tr>\n",
       "      <th>65162</th>\n",
       "      <td>1</td>\n",
       "      <td>1</td>\n",
       "      <td>1</td>\n",
       "      <td>1</td>\n",
       "      <td>0</td>\n",
       "      <td>0</td>\n",
       "      <td>0</td>\n",
       "      <td>0</td>\n",
       "      <td>0</td>\n",
       "      <td>0</td>\n",
       "      <td>...</td>\n",
       "      <td>0</td>\n",
       "      <td>0</td>\n",
       "      <td>0</td>\n",
       "      <td>0</td>\n",
       "      <td>0</td>\n",
       "      <td>0</td>\n",
       "      <td>0</td>\n",
       "      <td>0</td>\n",
       "      <td>0</td>\n",
       "      <td>0</td>\n",
       "    </tr>\n",
       "    <tr>\n",
       "      <th>17957</th>\n",
       "      <td>0</td>\n",
       "      <td>0</td>\n",
       "      <td>0</td>\n",
       "      <td>0</td>\n",
       "      <td>1</td>\n",
       "      <td>1</td>\n",
       "      <td>1</td>\n",
       "      <td>0</td>\n",
       "      <td>0</td>\n",
       "      <td>0</td>\n",
       "      <td>...</td>\n",
       "      <td>0</td>\n",
       "      <td>0</td>\n",
       "      <td>0</td>\n",
       "      <td>0</td>\n",
       "      <td>0</td>\n",
       "      <td>0</td>\n",
       "      <td>0</td>\n",
       "      <td>0</td>\n",
       "      <td>0</td>\n",
       "      <td>0</td>\n",
       "    </tr>\n",
       "    <tr>\n",
       "      <th>17576</th>\n",
       "      <td>0</td>\n",
       "      <td>0</td>\n",
       "      <td>0</td>\n",
       "      <td>0</td>\n",
       "      <td>0</td>\n",
       "      <td>0</td>\n",
       "      <td>0</td>\n",
       "      <td>1</td>\n",
       "      <td>0</td>\n",
       "      <td>0</td>\n",
       "      <td>...</td>\n",
       "      <td>0</td>\n",
       "      <td>0</td>\n",
       "      <td>0</td>\n",
       "      <td>0</td>\n",
       "      <td>0</td>\n",
       "      <td>0</td>\n",
       "      <td>0</td>\n",
       "      <td>0</td>\n",
       "      <td>0</td>\n",
       "      <td>0</td>\n",
       "    </tr>\n",
       "    <tr>\n",
       "      <th>27285</th>\n",
       "      <td>0</td>\n",
       "      <td>0</td>\n",
       "      <td>0</td>\n",
       "      <td>0</td>\n",
       "      <td>0</td>\n",
       "      <td>0</td>\n",
       "      <td>0</td>\n",
       "      <td>0</td>\n",
       "      <td>0</td>\n",
       "      <td>0</td>\n",
       "      <td>...</td>\n",
       "      <td>0</td>\n",
       "      <td>0</td>\n",
       "      <td>0</td>\n",
       "      <td>0</td>\n",
       "      <td>0</td>\n",
       "      <td>0</td>\n",
       "      <td>0</td>\n",
       "      <td>0</td>\n",
       "      <td>0</td>\n",
       "      <td>0</td>\n",
       "    </tr>\n",
       "    <tr>\n",
       "      <th>38032</th>\n",
       "      <td>0</td>\n",
       "      <td>0</td>\n",
       "      <td>0</td>\n",
       "      <td>0</td>\n",
       "      <td>0</td>\n",
       "      <td>1</td>\n",
       "      <td>1</td>\n",
       "      <td>0</td>\n",
       "      <td>1</td>\n",
       "      <td>0</td>\n",
       "      <td>...</td>\n",
       "      <td>0</td>\n",
       "      <td>0</td>\n",
       "      <td>0</td>\n",
       "      <td>0</td>\n",
       "      <td>0</td>\n",
       "      <td>0</td>\n",
       "      <td>0</td>\n",
       "      <td>0</td>\n",
       "      <td>0</td>\n",
       "      <td>0</td>\n",
       "    </tr>\n",
       "  </tbody>\n",
       "</table>\n",
       "<p>5 rows × 321 columns</p>\n",
       "</div>"
      ],
      "text/plain": [
       "       bergamot  chai  earl  grey  food  cat  dog  organic  yorkie  chamomile  \\\n",
       "65162         1     1     1     1     0    0    0        0       0          0   \n",
       "17957         0     0     0     0     1    1    1        0       0          0   \n",
       "17576         0     0     0     0     0    0    0        1       0          0   \n",
       "27285         0     0     0     0     0    0    0        0       0          0   \n",
       "38032         0     0     0     0     0    1    1        0       1          0   \n",
       "\n",
       "        ...    heat  formula  loved  pancake  toddler  really  recommended  \\\n",
       "65162   ...       0        0      0        0        0       0            0   \n",
       "17957   ...       0        0      0        0        0       0            0   \n",
       "17576   ...       0        0      0        0        0       0            0   \n",
       "27285   ...       0        0      0        0        0       0            0   \n",
       "38032   ...       0        0      0        0        0       0            0   \n",
       "\n",
       "       sardine  allergy  kernel  \n",
       "65162        0        0       0  \n",
       "17957        0        0       0  \n",
       "17576        0        0       0  \n",
       "27285        0        0       0  \n",
       "38032        0        0       0  \n",
       "\n",
       "[5 rows x 321 columns]"
      ]
     },
     "execution_count": 20,
     "metadata": {},
     "output_type": "execute_result"
    }
   ],
   "source": [
    "# OneHot encode keywords\n",
    "prod_vec = {}\n",
    "for product in train['ProductId'].unique():\n",
    "    vec = []\n",
    "    for keyword in keywords:\n",
    "        if keyword in keywords_per_product[product]:\n",
    "            vec.append(1)\n",
    "        else:\n",
    "            vec.append(0)\n",
    "    prod_vec[product] = vec\n",
    "    \n",
    "prod_features = pd.DataFrame(prod_vec).T\n",
    "prod_features.columns = keywords\n",
    "prod_features.head()"
   ]
  },
  {
   "cell_type": "markdown",
   "metadata": {},
   "source": [
    "Keywords per product have been extracted and one-hot encoded. It looks good enough, so I'll just merge it into the train dataset."
   ]
  },
  {
   "cell_type": "code",
   "execution_count": 21,
   "metadata": {},
   "outputs": [],
   "source": [
    "train = train.merge(prod_features, left_on=['ProductId'], right_index=True, how='left')"
   ]
  },
  {
   "cell_type": "markdown",
   "metadata": {},
   "source": [
    "# Get aditional features from scores"
   ]
  },
  {
   "cell_type": "code",
   "execution_count": 22,
   "metadata": {},
   "outputs": [],
   "source": [
    "def standard_features(data, group, var, prefix):\n",
    "    g = data.groupby(group)[var]\n",
    "    data[prefix+var+'Mean'] = g.transform('mean')\n",
    "    data[prefix+var+'Std'] = g.transform('std')\n",
    "    data[prefix+var+'Count'] = g.transform('count')\n",
    "    return data\n",
    "\n",
    "train = standard_features(train, 'UserId', 'Score', 'User')\n",
    "train = standard_features(train, 'ProductId', 'Score', 'Product')\n",
    "train = standard_features(train, ['ProductId', 'Year'], 'Score', 'ProductYear')"
   ]
  },
  {
   "cell_type": "markdown",
   "metadata": {},
   "source": [
    "# Merge features to train and validation\n",
    "To avoid data leakage, features are only extracted from train dataset and then merged back into the test and validation set."
   ]
  },
  {
   "cell_type": "code",
   "execution_count": 23,
   "metadata": {},
   "outputs": [],
   "source": [
    "product_cols = train.filter(regex='(Product).*').columns\n",
    "user_cols = train.filter(regex='(User).*').columns"
   ]
  },
  {
   "cell_type": "code",
   "execution_count": 24,
   "metadata": {},
   "outputs": [],
   "source": [
    "test = test.merge(train[product_cols].groupby('ProductId').mean(), left_on='ProductId', right_index=True, how='left')\n",
    "test = test.merge(train[user_cols].groupby('UserId').mean(), left_on='UserId', right_index=True, how='left')\n",
    "test = test.merge(prod_features, left_on=['ProductId'], right_index=True, how='left')"
   ]
  },
  {
   "cell_type": "code",
   "execution_count": 25,
   "metadata": {},
   "outputs": [],
   "source": [
    "test.fillna(0, inplace=True) # There is no information about NaNs"
   ]
  },
  {
   "cell_type": "code",
   "execution_count": 59,
   "metadata": {},
   "outputs": [],
   "source": [
    "validation = validation.merge(train[product_cols].groupby('ProductId').mean(), \n",
    "                              left_on='ProductId', right_index=True, how='left')\n",
    "validation = validation.merge(train[user_cols].groupby('UserId').mean(), \n",
    "                              left_on='UserId', right_index=True, how='left')\n",
    "validation = validation.merge(prod_features, left_on=['ProductId'], \n",
    "                              right_index=True, how='left')\n",
    "validation.fillna(0, inplace=True) # There is no information about NaNs"
   ]
  },
  {
   "cell_type": "markdown",
   "metadata": {},
   "source": [
    "# Train, tune and validate model"
   ]
  },
  {
   "cell_type": "code",
   "execution_count": 26,
   "metadata": {},
   "outputs": [],
   "source": [
    "def scorer(model, X_train, X_test, y_train, y_test):\n",
    "    # MSE Scorer\n",
    "    model.fit(X_train, y_train)\n",
    "    preds = model.predict(X_test)\n",
    "    return mean_squared_error(y_test, preds)"
   ]
  },
  {
   "cell_type": "code",
   "execution_count": 48,
   "metadata": {},
   "outputs": [],
   "source": [
    "def grid_search(model, X_train, X_test, y_train, y_test, param_grid, rs=542, verbose=False):\n",
    "    # Hyperparameter grid search\n",
    "    if verbose:\n",
    "        total = sum([1 for _ in product(*param_grid.values())])\n",
    "    \n",
    "    combs = product(*param_grid.values())\n",
    "    best_score = np.inf\n",
    "    for i, comb in enumerate(combs):            \n",
    "        params = dict(zip(param_grid.keys(), comb))\n",
    "        model.set_params(**params)\n",
    "        score = scorer(model, X_train, X_test, y_train, y_test)\n",
    "        if score < best_score:\n",
    "            best_score = score\n",
    "            best_params = params\n",
    "            \n",
    "        if verbose:\n",
    "            print('Parameter combination: {}/{}. Score:{:.4f}, best:{:.4f}.'.format(i+1,total, score, best_score))\n",
    "            \n",
    "    return best_params, best_score"
   ]
  },
  {
   "cell_type": "code",
   "execution_count": 28,
   "metadata": {},
   "outputs": [],
   "source": [
    "# Split X y\n",
    "cols = train.drop(['ProfileName', 'HelpfulnessNumerator', \n",
    "                   'HelpfulnessDenominator', 'Score', 'Time', 'Year',\n",
    "                  'Summary', 'Text', 'Full_txt', 'UserId', 'ProductId'],\n",
    "                  axis=1).columns\n",
    "X_train = train[cols].fillna(0) #NaNs are in std\n",
    "y_train = train['Score']\n",
    "X_test = test[cols].fillna(0)\n",
    "y_test = test['Score']"
   ]
  },
  {
   "cell_type": "code",
   "execution_count": 34,
   "metadata": {},
   "outputs": [
    {
     "name": "stdout",
     "output_type": "stream",
     "text": [
      "1.0209428715876088\n"
     ]
    }
   ],
   "source": [
    "# Fit the base regressor\n",
    "rf = RandomForestRegressor(n_estimators=200, n_jobs=-1, random_state=412)\n",
    "rf.fit(X_train, y_train)\n",
    "preds = rf.predict(X_test)\n",
    "score = mean_squared_error(y_test, preds)\n",
    "print(score)"
   ]
  },
  {
   "cell_type": "code",
   "execution_count": 35,
   "metadata": {
    "scrolled": true
   },
   "outputs": [
    {
     "name": "stdout",
     "output_type": "stream",
     "text": [
      "Tested q: 0.05, score: 1.0206. Best score: 1.0206\n",
      "Tested q: 0.10, score: 1.0208. Best score: 1.0206\n",
      "Tested q: 0.15, score: 1.0232. Best score: 1.0206\n",
      "Tested q: 0.20, score: 1.0204. Best score: 1.0204\n",
      "Tested q: 0.25, score: 1.0222. Best score: 1.0204\n",
      "Tested q: 0.30, score: 1.0202. Best score: 1.0202\n",
      "Tested q: 0.35, score: 1.0203. Best score: 1.0202\n",
      "Tested q: 0.40, score: 1.0211. Best score: 1.0202\n",
      "Tested q: 0.45, score: 1.0194. Best score: 1.0194\n",
      "Tested q: 0.50, score: 1.0205. Best score: 1.0194\n",
      "Tested q: 0.55, score: 1.0207. Best score: 1.0194\n",
      "Tested q: 0.60, score: 1.0189. Best score: 1.0189\n",
      "Tested q: 0.65, score: 1.0224. Best score: 1.0189\n",
      "Tested q: 0.70, score: 1.0199. Best score: 1.0189\n",
      "Tested q: 0.75, score: 1.0205. Best score: 1.0189\n",
      "Tested q: 0.80, score: 1.0211. Best score: 1.0189\n",
      "Tested q: 0.85, score: 1.0204. Best score: 1.0189\n",
      "Tested q: 0.90, score: 1.0246. Best score: 1.0189\n",
      "Tested q: 0.95, score: 1.0280. Best score: 1.0189\n",
      "Tested q: 0.56, score: 1.0215. Best score: 1.0189\n",
      "Tested q: 0.57, score: 1.0215. Best score: 1.0189\n",
      "Tested q: 0.58, score: 1.0172. Best score: 1.0172\n",
      "Tested q: 0.59, score: 1.0195. Best score: 1.0172\n",
      "Tested q: 0.60, score: 1.0189. Best score: 1.0172\n",
      "Tested q: 0.61, score: 1.0205. Best score: 1.0172\n",
      "Tested q: 0.62, score: 1.0208. Best score: 1.0172\n",
      "Tested q: 0.63, score: 1.0219. Best score: 1.0172\n",
      "Tested q: 0.64, score: 1.0200. Best score: 1.0172\n"
     ]
    }
   ],
   "source": [
    "# Tune features\n",
    "best_score = score\n",
    "features = X_train.columns\n",
    "fi = rf.feature_importances_\n",
    "lfi = np.log(fi)\n",
    "for q in np.arange(0.05, 1, 0.05):\n",
    "    v = np.exp(np.quantile(lfi, q))\n",
    "    features = X_train.columns[fi>=v]\n",
    "\n",
    "    score = scorer(rf, X_train[features], X_test[features], y_train, y_test)\n",
    "    if score < best_score:\n",
    "        best_score = score\n",
    "        best_features = features\n",
    "        best_q = q\n",
    "    print('Tested q: {:.2f}, score: {:.4f}. Best score: {:.4f}'.format(q, score, best_score))\n",
    "    \n",
    "for q in np.arange(best_q-0.04, best_q+0.04, 0.01):\n",
    "    if np.isclose(best_q,q):\n",
    "        continue\n",
    "    v = np.exp(np.quantile(lfi, q))\n",
    "    features = X_train.columns[fi>=v]\n",
    "\n",
    "    score = scorer(rf, X_train[features], X_test[features], y_train, y_test)\n",
    "    if score < best_score:\n",
    "        best_score = score\n",
    "        best_features = features\n",
    "        best_q = q\n",
    "    print('Tested q: {:.2f}, score: {:.4f}. Best score: {:.4f}'.format(q, score, best_score))"
   ]
  },
  {
   "cell_type": "code",
   "execution_count": 49,
   "metadata": {
    "scrolled": true
   },
   "outputs": [
    {
     "name": "stdout",
     "output_type": "stream",
     "text": [
      "Parameter combination: 1/45. Score:1.0309, best:1.0309.\n",
      "Parameter combination: 2/45. Score:1.0060, best:1.0060.\n",
      "Parameter combination: 3/45. Score:1.0321, best:1.0060.\n",
      "Parameter combination: 4/45. Score:1.0209, best:1.0060.\n",
      "Parameter combination: 5/45. Score:1.0057, best:1.0057.\n",
      "Parameter combination: 6/45. Score:1.0329, best:1.0057.\n",
      "Parameter combination: 7/45. Score:1.0037, best:1.0037.\n",
      "Parameter combination: 8/45. Score:1.0049, best:1.0037.\n",
      "Parameter combination: 9/45. Score:1.0152, best:1.0037.\n",
      "Parameter combination: 10/45. Score:1.0201, best:1.0037.\n",
      "Parameter combination: 11/45. Score:1.0060, best:1.0037.\n",
      "Parameter combination: 12/45. Score:1.0260, best:1.0037.\n",
      "Parameter combination: 13/45. Score:1.0126, best:1.0037.\n",
      "Parameter combination: 14/45. Score:1.0057, best:1.0037.\n",
      "Parameter combination: 15/45. Score:1.0294, best:1.0037.\n",
      "Parameter combination: 16/45. Score:0.9991, best:0.9991.\n",
      "Parameter combination: 17/45. Score:1.0049, best:0.9991.\n",
      "Parameter combination: 18/45. Score:1.0125, best:0.9991.\n",
      "Parameter combination: 19/45. Score:1.0179, best:0.9991.\n",
      "Parameter combination: 20/45. Score:1.0060, best:0.9991.\n",
      "Parameter combination: 21/45. Score:1.0260, best:0.9991.\n",
      "Parameter combination: 22/45. Score:1.0130, best:0.9991.\n",
      "Parameter combination: 23/45. Score:1.0057, best:0.9991.\n",
      "Parameter combination: 24/45. Score:1.0294, best:0.9991.\n",
      "Parameter combination: 25/45. Score:0.9992, best:0.9991.\n",
      "Parameter combination: 26/45. Score:1.0049, best:0.9991.\n",
      "Parameter combination: 27/45. Score:1.0125, best:0.9991.\n",
      "Parameter combination: 28/45. Score:1.0172, best:0.9991.\n",
      "Parameter combination: 29/45. Score:1.0060, best:0.9991.\n",
      "Parameter combination: 30/45. Score:1.0260, best:0.9991.\n",
      "Parameter combination: 31/45. Score:1.0131, best:0.9991.\n",
      "Parameter combination: 32/45. Score:1.0057, best:0.9991.\n",
      "Parameter combination: 33/45. Score:1.0294, best:0.9991.\n",
      "Parameter combination: 34/45. Score:0.9992, best:0.9991.\n",
      "Parameter combination: 35/45. Score:1.0049, best:0.9991.\n",
      "Parameter combination: 36/45. Score:1.0125, best:0.9991.\n",
      "Parameter combination: 37/45. Score:1.0172, best:0.9991.\n",
      "Parameter combination: 38/45. Score:1.0060, best:0.9991.\n",
      "Parameter combination: 39/45. Score:1.0260, best:0.9991.\n",
      "Parameter combination: 40/45. Score:1.0131, best:0.9991.\n",
      "Parameter combination: 41/45. Score:1.0057, best:0.9991.\n",
      "Parameter combination: 42/45. Score:1.0294, best:0.9991.\n",
      "Parameter combination: 43/45. Score:0.9992, best:0.9991.\n",
      "Parameter combination: 44/45. Score:1.0049, best:0.9991.\n",
      "Parameter combination: 45/45. Score:1.0125, best:0.9991.\n",
      "{'max_depth': 30, 'min_samples_split': 60, 'min_impurity_decrease': 0.0, 'n_jobs': -1, 'random_state': 412, 'n_estimators': 200}\n"
     ]
    }
   ],
   "source": [
    "# Tune hyperparameters\n",
    "param_grid = {'max_depth':[15, 30, 50, 100, None], 'min_samples_split':[2, 30, 60],\n",
    "              'min_impurity_decrease':[0.0, 0.001, 0.0001]}\n",
    "params, score = grid_search(rf, X_train[best_features], X_test[best_features],\n",
    "                            y_train, y_test, param_grid, verbose=True)\n",
    "params['n_jobs']=-1\n",
    "params['random_state']=412\n",
    "params['n_estimators']=200\n",
    "print(params)"
   ]
  },
  {
   "cell_type": "markdown",
   "metadata": {},
   "source": [
    "### Validate\n",
    "To validate the results, I'm joining train and test data and retraining the model with the given features and hyperparameters. For the sake of simplicity, I'm just joining the two datasets together. A better approach is to update product and user data by recalculating them in the new, bigger dataset."
   ]
  },
  {
   "cell_type": "code",
   "execution_count": 77,
   "metadata": {},
   "outputs": [],
   "source": [
    "X_pre = pd.concat([X_train[best_features], X_test[best_features]])\n",
    "y_pre = pd.concat([y_train, y_test])\n",
    "traintest = pd.concat([train, test], sort=False)"
   ]
  },
  {
   "cell_type": "code",
   "execution_count": 56,
   "metadata": {},
   "outputs": [
    {
     "data": {
      "text/plain": [
       "['rfModel.joblib']"
      ]
     },
     "execution_count": 56,
     "metadata": {},
     "output_type": "execute_result"
    }
   ],
   "source": [
    "rf = RandomForestRegressor(**params)\n",
    "rf.fit(X_pre, y_pre)\n",
    "dump(rf, 'rfModel.joblib')"
   ]
  },
  {
   "cell_type": "code",
   "execution_count": 89,
   "metadata": {},
   "outputs": [
    {
     "name": "stdout",
     "output_type": "stream",
     "text": [
      "0.6670018689634969\n"
     ]
    }
   ],
   "source": [
    "# Validate\n",
    "X_val = validation[best_features]\n",
    "y_val = validation['Score']\n",
    "preds = rf.predict(X_val)\n",
    "mse = mean_squared_error(y_val, preds)\n",
    "print(mse)"
   ]
  },
  {
   "cell_type": "code",
   "execution_count": 96,
   "metadata": {},
   "outputs": [
    {
     "name": "stdout",
     "output_type": "stream",
     "text": [
      "Macro F1: 0.58\n",
      "Weighted F1: 0.68\n"
     ]
    },
    {
     "data": {
      "image/png": "[encoded data removed]",
      "text/plain": [
       "<Figure size 432x288 with 2 Axes>"
      ]
     },
     "metadata": {
      "needs_background": "light"
     },
     "output_type": "display_data"
    }
   ],
   "source": [
    "# Transform into a classification problem by rounding predictions\n",
    "print('Macro F1: {:.2f}'.format(f1_score(y_val, preds.round(), average='macro')))\n",
    "print('Weighted F1: {:.2f}'.format(f1_score(y_val, preds.round(), average='weighted')))\n",
    "sns.heatmap(confusion_matrix(y_val, preds.round()), cmap='bwr', center=0, annot=True, fmt='.0f',\n",
    "           xticklabels=range(1,6), yticklabels=range(1,6))\n",
    "plt.xlabel('Predicted label')\n",
    "plt.ylabel('True label')\n",
    "plt.show()"
   ]
  },
  {
   "cell_type": "markdown",
   "metadata": {},
   "source": [
    "0.66 MSE in validation data is a surprising result. Given that the best MSE that could be achieved on the training phase was 0.99, the better perfomance on validation means that either the model needed more data to find better patterns, that there is still plenty of room to improve this model or even that validation data was too easy.\n",
    "\n",
    "When translated into a classification problem (by rounding predicted scores), a weighted F1 (accounting for label imbalance) of 68% shows that results may be improved way further. Nevertheless, when one looks at the confusion matrix, most of the mistakes come from neighbour classes (e.g. it predicted a 4 but it was a 5), which are not a terrible mistake. Actually, if one thinks about it, humans don't tend to be 100% consistent when rating things (Daniel Kahneman is famous for theorizing on this), so even for the rater it could be easy to change a 5 for a 4. Therefore, even this simple over-optimistic model could be used in production and it will obtain ok results."
   ]
  },
  {
   "cell_type": "markdown",
   "metadata": {},
   "source": [
    "# Recommend to user\n",
    "Finally, the trained model needs to be used to recommed new products to a given user. To do so, it is necessary to compute the expected score and sort the results."
   ]
  },
  {
   "cell_type": "code",
   "execution_count": 148,
   "metadata": {},
   "outputs": [],
   "source": [
    "def recommend(user=None, n=10, data=traintest, user_cols=user_cols,\n",
    "              product_cols=product_cols, prod_features=prod_features,\n",
    "              features=best_features, model=rf):\n",
    "    \n",
    "    if user is None:\n",
    "        user = random.choice(test.UserId.unique())\n",
    "        \n",
    "    # Assemble dataset for prediction\n",
    "    mask = data.UserId == user\n",
    "    user_features = data[mask][user_cols].mean()\n",
    "    \n",
    "    included_products = data[mask].ProductId.unique()\n",
    "    mask = data.ProductId.apply(lambda x: x not in included_products)\n",
    "    products = data[mask][product_cols]\n",
    "    \n",
    "    products = products.merge(prod_features, left_on='ProductId', right_index=True, how='left')\n",
    "    for i in user_features.iloc[1:].index:\n",
    "        products[i] = user_features[i]\n",
    "    \n",
    "    # Predict and sort results\n",
    "    preds = model.predict(products[features].fillna(0))\n",
    "    recommended = data[mask][['ProductId']]\n",
    "    recommended['PredScore'] = preds\n",
    "    recommended.drop_duplicates(inplace=True)\n",
    "    recommended = recommended.sort_values('PredScore', ascending=False).iloc[:n]\n",
    "        \n",
    "    print('{} recommended products for User {} with scores:'.format(n, user))\n",
    "    print(recommended.to_string(index=False))\n",
    "    \n",
    "    return recommended"
   ]
  },
  {
   "cell_type": "code",
   "execution_count": 149,
   "metadata": {},
   "outputs": [
    {
     "name": "stdout",
     "output_type": "stream",
     "text": [
      "10 recommended products for User 13619 with scores:\n",
      "ProductId  PredScore\n",
      "    59941        5.0\n",
      "    31091        5.0\n",
      "    52016        5.0\n",
      "    60025        5.0\n",
      "    29888        5.0\n",
      "    12851        5.0\n",
      "    13159        5.0\n",
      "    36810        5.0\n",
      "    19900        5.0\n",
      "    69096        5.0\n"
     ]
    }
   ],
   "source": [
    "# Choose a random user and recommend him/her 10 products\n",
    "_ = recommend()"
   ]
  },
  {
   "cell_type": "code",
   "execution_count": 151,
   "metadata": {},
   "outputs": [
    {
     "name": "stdout",
     "output_type": "stream",
     "text": [
      "15 recommended products for User 127 with scores:\n",
      "ProductId  PredScore\n",
      "    34023   3.117628\n",
      "     2273   3.059578\n",
      "    45099   3.047742\n",
      "     3663   3.043650\n",
      "    18090   2.987810\n",
      "    26765   2.982199\n",
      "    18090   2.980657\n",
      "    41583   2.971789\n",
      "    55586   2.967789\n",
      "    41583   2.961824\n",
      "    55586   2.957824\n",
      "    56536   2.944563\n",
      "    46244   2.939315\n",
      "    29789   2.922852\n",
      "    42915   2.920367\n"
     ]
    }
   ],
   "source": [
    "# Recommend 15 products to user 127\n",
    "_ = recommend(127, 15)"
   ]
  }
 ],
 "metadata": {
  "kernelspec": {
   "display_name": "Python 3",
   "language": "python",
   "name": "python3"
  },
  "language_info": {
   "codemirror_mode": {
    "name": "ipython",
    "version": 3
   },
   "file_extension": ".py",
   "mimetype": "text/x-python",
   "name": "python",
   "nbconvert_exporter": "python",
   "pygments_lexer": "ipython3",
   "version": "3.6.7"
  }
 },
 "nbformat": 4,
 "nbformat_minor": 2
}
